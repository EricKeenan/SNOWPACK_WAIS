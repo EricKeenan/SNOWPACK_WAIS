{
 "cells": [
  {
   "cell_type": "markdown",
   "metadata": {},
   "source": [
    "# Convert MERRA-2 wind direction from regular lat/lon to EPSG 3031"
   ]
  },
  {
   "cell_type": "code",
   "execution_count": 214,
   "metadata": {},
   "outputs": [],
   "source": [
    "import cartopy.crs as ccrs\n",
    "import numpy as np\n",
    "import pandas as pd\n",
    "import os\n",
    "import glob\n",
    "\n",
    "import matplotlib.pyplot as plt\n",
    "import re"
   ]
  },
  {
   "cell_type": "code",
   "execution_count": 215,
   "metadata": {},
   "outputs": [],
   "source": [
    "def read_smet(path, var):\n",
    "    \"\"\" Reads a .smet file and returns a time series of the defined variable as a pandas data frame.\n",
    "    Args:\n",
    "        path (str): String pointing to the location of the .smet file to be read.\n",
    "        var  (str): Variable you want to plot\n",
    "    Returns:\n",
    "        Time series of defined variable as a pandas data frame.\n",
    "    \"\"\"\n",
    "\n",
    "    # Load .smet file as a Pandas data frame\n",
    "    df = pd.read_csv(path)\n",
    "    \n",
    "    # Get latitude and longitude\n",
    "    '''\n",
    "    Note that this code will only work for negative latitudes and longitudes because of the pattern matching! \n",
    "    So lat and lon will be off if this is not the case! \n",
    "    To fix this I need to find a way to extract both negative and positive decimal numbers from strings. \n",
    "    '''\n",
    "    lat_line = np.where(df[df.columns[0]].str.startswith(\"latitude\"))[0][0]\n",
    "    lon_line = np.where(df[df.columns[0]].str.startswith(\"longitude\"))[0][0]\n",
    "    lat = float(re.findall('-\\d*\\.?\\d+', df['SMET 1.1 ASCII'][lat_line])[0])\n",
    "    lon = float(re.findall('-\\d*\\.?\\d+', df['SMET 1.1 ASCII'][lon_line])[0])\n",
    "\n",
    "    # Determine indices for data retrieval\n",
    "    bump = 2\n",
    "    fields_row = np.where(df[df.columns[0]].str.startswith(\"fields\"))[0][0] + bump\n",
    "    data_row = np.where(df[df.columns[0]] == '[DATA]')[0][0] + bump\n",
    "    fields =  np.loadtxt(path, skiprows=fields_row - 1, max_rows=1, dtype='str')\n",
    "    data_col = np.where(fields == var)[0][0] - bump\n",
    "\n",
    "    # Creates pandas data frame\n",
    "    time = np.loadtxt(path, skiprows=data_row, usecols=0, dtype = 'str')\n",
    "    time = pd.to_datetime(time, format='%Y-%m-%dT%H:%M:%S')\n",
    "    data = np.loadtxt(path, skiprows=data_row, usecols=data_col)\n",
    "    ts = pd.DataFrame(data, index=time)\n",
    "\n",
    "    # Set no data values to nan\n",
    "    ts[ts == -999] = np.nan\n",
    "\n",
    "    # Return time series as Pandas data frame\n",
    "    return ts, lat, lon\n",
    "\n",
    "def wswd_to_U(ws, wd):\n",
    "    '''\n",
    "    Calculates U wind component from wind speed (ws) and direction (wd, degrees). \n",
    "    '''\n",
    "    \n",
    "    return - ws * np.sin(np.deg2rad(wd))\n",
    "    \n",
    "def wswd_to_V(ws, wd):\n",
    "    '''\n",
    "    Calculates V wind component from wind speed (ws) and direction (wd, degrees). \n",
    "    '''\n",
    "    \n",
    "    return - ws * np.cos(np.deg2rad(wd))\n",
    "\n",
    "def uv_to_wd(u, v):\n",
    "    '''\n",
    "    Calculates wind direction (wd, degrees) from u and v components of wind (u, v). \n",
    "    '''\n",
    "    \n",
    "    return np.fmod(np.rad2deg(np.arctan2(u, v)) + 180.0, 360.0)\n",
    "\n",
    "def rotate_u_v(src_lon, src_lat, src_u, src_v):\n",
    "    '''\n",
    "    Rotates the u and v components of wind from WGS 84 (regular latititude and longitude) to EPSG:3031 (Antarctic polar stereographic projection). \n",
    "    '''   \n",
    "    \n",
    "#     src_proj = ccrs.PlateCarree() \n",
    "    src_proj = ccrs.SouthPolarStereo() \n",
    "    tgt_proj = ccrs.SouthPolarStereo()\n",
    "    u_rot, v_rot = tgt_proj.transform_vectors(src_proj, src_lon, src_lat, src_u, src_v)\n",
    "    \n",
    "    return u_rot, v_rot"
   ]
  },
  {
   "cell_type": "code",
   "execution_count": 216,
   "metadata": {},
   "outputs": [
    {
     "name": "stdout",
     "output_type": "stream",
     "text": [
      "../../snowpack/Scripts/create_smet_from_netcdf/output/MERRA-2_2019/VIR13.smet\n"
     ]
    }
   ],
   "source": [
    "# src_dir = glob.glob(\"../../input/meteo/*.smet\")\n",
    "src_dir = glob.glob(\"../../snowpack/Scripts/create_smet_from_netcdf/output/MERRA-2_2019/*smet\")\n",
    "\n",
    "# for filename in src_dir:\n",
    "for filename in src_dir[0:1]:\n",
    "    print(filename)\n",
    "    \n",
    "    # Calculate wind direction in EPSG 3031\n",
    "    ws, lat, lon = read_smet(filename, \"VW\")\n",
    "    wd, lat, lon = read_smet(filename, \"DW\")\n",
    "    u = wswd_to_U(ws, wd)\n",
    "    v = wswd_to_V(ws, wd)\n",
    "    u_rot, v_rot = rotate_u_v(np.repeat(lon, len(u[0])), np.repeat(lat, len(u[0])), u[0].values, v[0].values)\n",
    "    wd_rot = uv_to_wd(u_rot, v_rot)"
   ]
  },
  {
   "cell_type": "code",
   "execution_count": 217,
   "metadata": {},
   "outputs": [
    {
     "name": "stdout",
     "output_type": "stream",
     "text": [
      "Mean Wind Direction = 42.975378763437334 degrees\n"
     ]
    },
    {
     "data": {
      "image/png": "[encoded data removed]",
      "text/plain": [
       "<Figure size 432x288 with 1 Axes>"
      ]
     },
     "metadata": {
      "needs_background": "light"
     },
     "output_type": "display_data"
    },
    {
     "data": {
      "image/png": "[encoded data removed]",
      "text/plain": [
       "<Figure size 432x288 with 1 Axes>"
      ]
     },
     "metadata": {
      "needs_background": "light"
     },
     "output_type": "display_data"
    }
   ],
   "source": [
    "plt.figure()\n",
    "plt.hist(wd_rot)\n",
    "\n",
    "plt.figure()\n",
    "plt.hist(wd[0].values)\n",
    "\n",
    "mean_wd = uv_to_wd(u_rot.mean(), v_rot.mean())\n",
    "print(\"Mean Wind Direction = \" + str(mean_wd) + \" degrees\")"
   ]
  },
  {
   "cell_type": "code",
   "execution_count": 218,
   "metadata": {},
   "outputs": [
    {
     "data": {
      "text/html": [
       "<div>\n",
       "<style scoped>\n",
       "    .dataframe tbody tr th:only-of-type {\n",
       "        vertical-align: middle;\n",
       "    }\n",
       "\n",
       "    .dataframe tbody tr th {\n",
       "        vertical-align: top;\n",
       "    }\n",
       "\n",
       "    .dataframe thead th {\n",
       "        text-align: right;\n",
       "    }\n",
       "</style>\n",
       "<table border=\"1\" class=\"dataframe\">\n",
       "  <thead>\n",
       "    <tr style=\"text-align: right;\">\n",
       "      <th></th>\n",
       "      <th>0</th>\n",
       "    </tr>\n",
       "  </thead>\n",
       "  <tbody>\n",
       "    <tr>\n",
       "      <th>2019-01-01 00:30:00</th>\n",
       "      <td>10.0</td>\n",
       "    </tr>\n",
       "    <tr>\n",
       "      <th>2019-01-01 01:30:00</th>\n",
       "      <td>14.0</td>\n",
       "    </tr>\n",
       "    <tr>\n",
       "      <th>2019-01-01 02:30:00</th>\n",
       "      <td>18.0</td>\n",
       "    </tr>\n",
       "    <tr>\n",
       "      <th>2019-01-01 03:30:00</th>\n",
       "      <td>22.0</td>\n",
       "    </tr>\n",
       "    <tr>\n",
       "      <th>2019-01-01 04:30:00</th>\n",
       "      <td>25.0</td>\n",
       "    </tr>\n",
       "    <tr>\n",
       "      <th>...</th>\n",
       "      <td>...</td>\n",
       "    </tr>\n",
       "    <tr>\n",
       "      <th>2019-08-28 19:30:00</th>\n",
       "      <td>174.0</td>\n",
       "    </tr>\n",
       "    <tr>\n",
       "      <th>2019-08-28 20:30:00</th>\n",
       "      <td>164.0</td>\n",
       "    </tr>\n",
       "    <tr>\n",
       "      <th>2019-08-28 21:30:00</th>\n",
       "      <td>155.0</td>\n",
       "    </tr>\n",
       "    <tr>\n",
       "      <th>2019-08-28 22:30:00</th>\n",
       "      <td>144.0</td>\n",
       "    </tr>\n",
       "    <tr>\n",
       "      <th>2019-08-28 23:30:00</th>\n",
       "      <td>130.0</td>\n",
       "    </tr>\n",
       "  </tbody>\n",
       "</table>\n",
       "<p>5760 rows × 1 columns</p>\n",
       "</div>"
      ],
      "text/plain": [
       "                         0\n",
       "2019-01-01 00:30:00   10.0\n",
       "2019-01-01 01:30:00   14.0\n",
       "2019-01-01 02:30:00   18.0\n",
       "2019-01-01 03:30:00   22.0\n",
       "2019-01-01 04:30:00   25.0\n",
       "...                    ...\n",
       "2019-08-28 19:30:00  174.0\n",
       "2019-08-28 20:30:00  164.0\n",
       "2019-08-28 21:30:00  155.0\n",
       "2019-08-28 22:30:00  144.0\n",
       "2019-08-28 23:30:00  130.0\n",
       "\n",
       "[5760 rows x 1 columns]"
      ]
     },
     "execution_count": 218,
     "metadata": {},
     "output_type": "execute_result"
    }
   ],
   "source": [
    "wd"
   ]
  }
 ],
 "metadata": {
  "kernelspec": {
   "display_name": "alpine3d",
   "language": "python",
   "name": "alpine3d"
  },
  "language_info": {
   "codemirror_mode": {
    "name": "ipython",
    "version": 3
   },
   "file_extension": ".py",
   "mimetype": "text/x-python",
   "name": "python",
   "nbconvert_exporter": "python",
   "pygments_lexer": "ipython3",
   "version": "3.6.10"
  }
 },
 "nbformat": 4,
 "nbformat_minor": 4
}
