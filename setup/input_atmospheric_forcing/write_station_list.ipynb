{
 "cells": [
  {
   "cell_type": "markdown",
   "metadata": {},
   "source": [
    "# Script to identify which MERRA-2 grid cells are within the Alpine-3D bounding box. The output of the script should look like this. \n",
    "```\n",
    "[INPUT]\n",
    "VSTATION1 = latlon -65.5 -60.625 0\n",
    "VSTATION2 = latlon -71 70 0\n",
    "```\n",
    "\n",
    "# This script also determines the closest MERRA-2 grid cell to each Alpine-3D grid cell and therefore determines at which MERRA-2 grid cells we need to spinup snow properties."
   ]
  },
  {
   "cell_type": "code",
   "execution_count": 9,
   "metadata": {},
   "outputs": [
    {
     "name": "stdout",
     "output_type": "stream",
     "text": [
      "/gpfs/summit/scratch/erke2265/SNOWPACK_WAIS/setup/input_atmospheric_forcing\n"
     ]
    }
   ],
   "source": [
    "!pwd"
   ]
  },
  {
   "cell_type": "markdown",
   "metadata": {},
   "source": [
    "## Import python packages"
   ]
  },
  {
   "cell_type": "code",
   "execution_count": 10,
   "metadata": {},
   "outputs": [],
   "source": [
    "import xarray as xr\n",
    "import numpy as np\n",
    "from osgeo import osr\n",
    "from pyproj import Geod\n",
    "import geopandas as gpd\n",
    "import cartopy.crs as ccrs\n",
    "import matplotlib.pyplot as plt"
   ]
  },
  {
   "cell_type": "markdown",
   "metadata": {},
   "source": [
    "## Define Alpine-3D coordinate corners (see SNOWPACK_WAIS/setup/input_surface_grids/create_input_surface_grids.sh)"
   ]
  },
  {
   "cell_type": "code",
   "execution_count": 25,
   "metadata": {},
   "outputs": [
    {
     "name": "stderr",
     "output_type": "stream",
     "text": [
      "/projects/erke2265/miniconda/envs/alpine3d/lib/python3.6/site-packages/pyproj/crs/crs.py:53: FutureWarning: '+init=<authority>:<code>' syntax is deprecated. '<authority>:<code>' is the preferred initialization method. When making the change, be mindful of axis order changes: https://pyproj4.github.io/pyproj/stable/gotchas.html#axis-order-changes-in-proj-6\n",
      "  return _prepare_from_string(\" \".join(pjargs))\n"
     ]
    },
    {
     "data": {
      "text/plain": [
       "<matplotlib.collections.PathCollection at 0x2ba0ff840048>"
      ]
     },
     "execution_count": 25,
     "metadata": {},
     "output_type": "execute_result"
    },
    {
     "data": {
      "image/png": "[encoded data removed]",
      "text/plain": [
       "<Figure size 360x360 with 1 Axes>"
      ]
     },
     "metadata": {
      "needs_background": "light"
     },
     "output_type": "display_data"
    }
   ],
   "source": [
    "# # Settings for 64 sites for A3D input meteo\n",
    "# ncol = 168\n",
    "# nrow = 107\n",
    "# left = -1542000 # done\n",
    "# bottom = -109000 # done\n",
    "# bump = 1000 * 50\n",
    "\n",
    "# Settings for 247 sites for WindNinja input meteo\n",
    "ncol = 198\n",
    "nrow = 137\n",
    "left = -1557000\n",
    "bottom = -124000 # done\n",
    "bump = 1000 * 150\n",
    "\n",
    "top = bottom + 1000 * (nrow -1)\n",
    "right = left + 1000 * (ncol -1)\n",
    "\n",
    "\n",
    "# Plot corners on map\n",
    "# Coastline Data\n",
    "df = gpd.read_file(\"/pl/active/nasa_smb/Data/ADD_Coastline_low_res_polygon.shp\")\n",
    "crs_epsg = ccrs.SouthPolarStereo()\n",
    "df_epsg = df.to_crs(epsg='3031')\n",
    "\n",
    "# Map\n",
    "# Generate figure \n",
    "fig, axs = plt.subplots(1, 1, subplot_kw={'projection': crs_epsg},\n",
    "                        figsize=(5, 5))\n",
    "\n",
    "# Plot coastlines\n",
    "axs.set_extent((-180, 180, -90, -65), ccrs.PlateCarree())\n",
    "axs.add_geometries(df_epsg['geometry'], crs=crs_epsg,\n",
    "                      facecolor='none', edgecolor='black')\n",
    "\n",
    "# Plot model domain\n",
    "plt.scatter(left, bottom, c='r')\n",
    "plt.scatter(left, top, c='r')\n",
    "plt.scatter(right, bottom, c='r')\n",
    "plt.scatter(right, top, c='r')"
   ]
  },
  {
   "cell_type": "markdown",
   "metadata": {},
   "source": [
    "## Load MERRA-2 lat/lon"
   ]
  },
  {
   "cell_type": "code",
   "execution_count": 26,
   "metadata": {},
   "outputs": [],
   "source": [
    "# Load lat, lon\n",
    "ds = xr.open_dataset(\"/scratch/summit/erke2265/MERRA2/T2M_hourly_1980.nc\")\n",
    "# ds = xr.open_dataset(\"/pl/active/nasa_smb/MERRA2/yearly_files/T2M_hourly_1980.nc\")\n",
    "\n",
    "\n",
    "grid_lat = ds['lat'].values\n",
    "grid_lon = ds['lon'].values\n",
    "\n",
    "# Create lat/lon arrays and reshape into vectors. To undo flatten, np.reshape(grid_lon, [len(ds['lat']), len(ds['lon'])])\n",
    "grid_lon, grid_lat = np.meshgrid(grid_lon, grid_lat)\n",
    "grid_lon = grid_lon.flatten()\n",
    "grid_lat = grid_lat.flatten()"
   ]
  },
  {
   "cell_type": "markdown",
   "metadata": {},
   "source": [
    "## Convert MERRA-2 lat/lon to epsg 3031"
   ]
  },
  {
   "cell_type": "code",
   "execution_count": 27,
   "metadata": {},
   "outputs": [],
   "source": [
    "# Source and target EPSG\n",
    "src = osr.SpatialReference()\n",
    "tgt = osr.SpatialReference()\n",
    "src.ImportFromEPSG(4326) # WGS-84\n",
    "tgt.ImportFromEPSG(3031) # South Polar Stereo\n",
    "\n",
    "# Define transformation\n",
    "transform = osr.CoordinateTransformation(src, tgt)\n",
    "\n",
    "# Initialize arrays\n",
    "grid_X = np.zeros(len(grid_lon)); grid_X[:] = np.nan\n",
    "grid_Y = np.zeros(len(grid_lat)); grid_Y[:] = np.nan\n",
    "\n",
    "# Perform coordinate transformation\n",
    "for j in range(0, len(grid_X)):\n",
    "    coords = transform.TransformPoint(grid_lat[j], grid_lon[j])\n",
    "    grid_X[j], grid_Y[j] = coords[0:2]\n"
   ]
  },
  {
   "cell_type": "markdown",
   "metadata": {},
   "source": [
    "## Determine which MERRA-2 grid cell are within the Alpine3D domain"
   ]
  },
  {
   "cell_type": "code",
   "execution_count": 28,
   "metadata": {},
   "outputs": [],
   "source": [
    "def get_domain(gridX, gridY, left, right, bottom, top, bump):\n",
    "    right = right + bump\n",
    "    left = left - bump\n",
    "    bottom = bottom - bump\n",
    "    top = top + bump\n",
    "    \n",
    "    filter_func = np.vectorize(lambda gridX, gridY: gridX <= right and gridX >= left and gridY >= bottom and gridY <= top)\n",
    "    \n",
    "    gridX_filter = gridX[filter_func(gridX, gridY)]\n",
    "    gridY_filter = gridY[filter_func(gridX, gridY)]\n",
    "    \n",
    "    return gridX_filter, gridY_filter\n",
    "\n",
    "# Call filter function\n",
    "gridX_filter, gridY_filter = get_domain(grid_X, grid_Y, left, right, bottom, top, bump)"
   ]
  },
  {
   "cell_type": "markdown",
   "metadata": {},
   "source": [
    "## Convert MERRA-2 coordinates back into regular lat/lon"
   ]
  },
  {
   "cell_type": "code",
   "execution_count": 29,
   "metadata": {},
   "outputs": [],
   "source": [
    "# Source and target EPSG\n",
    "src = osr.SpatialReference()\n",
    "tgt = osr.SpatialReference()\n",
    "src.ImportFromEPSG(3031) # WGS-84\n",
    "tgt.ImportFromEPSG(4326) # South Polar Stereo\n",
    "\n",
    "# Define transformation\n",
    "transform = osr.CoordinateTransformation(src, tgt)\n",
    "\n",
    "# Initialize arrays\n",
    "filter_X_wgs84 = np.zeros(len(gridX_filter)); filter_X_wgs84[:] = np.nan\n",
    "filter_Y_wgs84 = np.zeros(len(gridY_filter)); filter_Y_wgs84[:] = np.nan\n",
    "\n",
    "# Perform coordinate transformation\n",
    "for j in range(0, len(filter_X_wgs84)):\n",
    "    coords = transform.TransformPoint(gridX_filter[j], gridY_filter[j])\n",
    "    filter_X_wgs84[j], filter_Y_wgs84[j] = coords[0:2]\n",
    "\n"
   ]
  },
  {
   "cell_type": "markdown",
   "metadata": {},
   "source": [
    "## Write station_list.lst"
   ]
  },
  {
   "cell_type": "code",
   "execution_count": 30,
   "metadata": {},
   "outputs": [
    {
     "name": "stdout",
     "output_type": "stream",
     "text": [
      "[INPUTEDITING]\n",
      "VSTATION1 = latlon -78.5 -102.5 0\n",
      "VSTATION2 = latlon -78.5 -101.875 0\n",
      "VSTATION3 = latlon -78.5 -101.25 0\n",
      "VSTATION4 = latlon -78.5 -100.625 0\n",
      "VSTATION5 = latlon -78.5 -100.0 0\n",
      "VSTATION6 = latlon -78.5 -99.375 0\n",
      "VSTATION7 = latlon -78.5 -98.75 0\n",
      "VSTATION8 = latlon -78.5 -98.125 0\n",
      "VSTATION9 = latlon -78.5 -97.5 0\n",
      "VSTATION10 = latlon -78.5 -96.875 0\n",
      "VSTATION11 = latlon -78.5 -96.25 0\n",
      "VSTATION12 = latlon -78.5 -95.625 0\n",
      "VSTATION13 = latlon -78.5 -95.0 0\n",
      "VSTATION14 = latlon -78.5 -94.375 0\n",
      "VSTATION15 = latlon -78.5 -93.75 0\n",
      "VSTATION16 = latlon -78.5 -93.125 0\n",
      "VSTATION17 = latlon -78.5 -92.5 0\n",
      "VSTATION18 = latlon -78.5 -91.875 0\n",
      "VSTATION19 = latlon -78.5 -91.25 0\n",
      "VSTATION20 = latlon -78.5 -90.625 0\n",
      "VSTATION21 = latlon -78.5 -90.0 0\n",
      "VSTATION22 = latlon -78.5 -89.375 0\n",
      "VSTATION23 = latlon -78.5 -88.75 0\n",
      "VSTATION24 = latlon -78.5 -88.125 0\n",
      "VSTATION25 = latlon -78.5 -87.5 0\n",
      "VSTATION26 = latlon -78.5 -86.875 0\n",
      "VSTATION27 = latlon -78.5 -86.25 0\n",
      "VSTATION28 = latlon -78.5 -85.625 0\n",
      "VSTATION29 = latlon -78.5 -85.0 0\n",
      "VSTATION30 = latlon -78.5 -84.375 0\n",
      "VSTATION31 = latlon -78.5 -83.75 0\n",
      "VSTATION32 = latlon -78.5 -83.125 0\n",
      "VSTATION33 = latlon -78.0 -101.875 0\n",
      "VSTATION34 = latlon -78.0 -101.25 0\n",
      "VSTATION35 = latlon -78.0 -100.625 0\n",
      "VSTATION36 = latlon -78.0 -100.0 0\n",
      "VSTATION37 = latlon -78.0 -99.375 0\n",
      "VSTATION38 = latlon -78.0 -98.75 0\n",
      "VSTATION39 = latlon -78.0 -98.125 0\n",
      "VSTATION40 = latlon -78.0 -97.5 0\n",
      "VSTATION41 = latlon -78.0 -96.875 0\n",
      "VSTATION42 = latlon -78.0 -96.25 0\n",
      "VSTATION43 = latlon -78.0 -95.625 0\n",
      "VSTATION44 = latlon -78.0 -95.0 0\n",
      "VSTATION45 = latlon -78.0 -94.375 0\n",
      "VSTATION46 = latlon -78.0 -93.75 0\n",
      "VSTATION47 = latlon -78.0 -93.125 0\n",
      "VSTATION48 = latlon -78.0 -92.5 0\n",
      "VSTATION49 = latlon -78.0 -91.875 0\n",
      "VSTATION50 = latlon -78.0 -91.25 0\n",
      "VSTATION51 = latlon -78.0 -90.625 0\n",
      "VSTATION52 = latlon -78.0 -90.0 0\n",
      "VSTATION53 = latlon -78.0 -89.375 0\n",
      "VSTATION54 = latlon -78.0 -88.75 0\n",
      "VSTATION55 = latlon -78.0 -88.125 0\n",
      "VSTATION56 = latlon -78.0 -87.5 0\n",
      "VSTATION57 = latlon -78.0 -86.875 0\n",
      "VSTATION58 = latlon -78.0 -86.25 0\n",
      "VSTATION59 = latlon -78.0 -85.625 0\n",
      "VSTATION60 = latlon -78.0 -85.0 0\n",
      "VSTATION61 = latlon -78.0 -84.375 0\n",
      "VSTATION62 = latlon -78.0 -83.75 0\n",
      "VSTATION63 = latlon -78.0 -83.125 0\n",
      "VSTATION64 = latlon -77.5 -101.25 0\n",
      "VSTATION65 = latlon -77.5 -100.625 0\n",
      "VSTATION66 = latlon -77.5 -100.0 0\n",
      "VSTATION67 = latlon -77.5 -99.375 0\n",
      "VSTATION68 = latlon -77.5 -98.75 0\n",
      "VSTATION69 = latlon -77.5 -98.125 0\n",
      "VSTATION70 = latlon -77.5 -97.5 0\n",
      "VSTATION71 = latlon -77.5 -96.875 0\n",
      "VSTATION72 = latlon -77.5 -96.25 0\n",
      "VSTATION73 = latlon -77.5 -95.625 0\n",
      "VSTATION74 = latlon -77.5 -95.0 0\n",
      "VSTATION75 = latlon -77.5 -94.375 0\n",
      "VSTATION76 = latlon -77.5 -93.75 0\n",
      "VSTATION77 = latlon -77.5 -93.125 0\n",
      "VSTATION78 = latlon -77.5 -92.5 0\n",
      "VSTATION79 = latlon -77.5 -91.875 0\n",
      "VSTATION80 = latlon -77.5 -91.25 0\n",
      "VSTATION81 = latlon -77.5 -90.625 0\n",
      "VSTATION82 = latlon -77.5 -90.0 0\n",
      "VSTATION83 = latlon -77.5 -89.375 0\n",
      "VSTATION84 = latlon -77.5 -88.75 0\n",
      "VSTATION85 = latlon -77.5 -88.125 0\n",
      "VSTATION86 = latlon -77.5 -87.5 0\n",
      "VSTATION87 = latlon -77.5 -86.875 0\n",
      "VSTATION88 = latlon -77.5 -86.25 0\n",
      "VSTATION89 = latlon -77.5 -85.625 0\n",
      "VSTATION90 = latlon -77.5 -85.0 0\n",
      "VSTATION91 = latlon -77.5 -84.375 0\n",
      "VSTATION92 = latlon -77.5 -83.75 0\n",
      "VSTATION93 = latlon -77.0 -100.625 0\n",
      "VSTATION94 = latlon -77.0 -100.0 0\n",
      "VSTATION95 = latlon -77.0 -99.375 0\n",
      "VSTATION96 = latlon -77.0 -98.75 0\n",
      "VSTATION97 = latlon -77.0 -98.125 0\n",
      "VSTATION98 = latlon -77.0 -97.5 0\n",
      "VSTATION99 = latlon -77.0 -96.875 0\n",
      "VSTATION100 = latlon -77.0 -96.25 0\n",
      "VSTATION101 = latlon -77.0 -95.625 0\n",
      "VSTATION102 = latlon -77.0 -95.0 0\n",
      "VSTATION103 = latlon -77.0 -94.375 0\n",
      "VSTATION104 = latlon -77.0 -93.75 0\n",
      "VSTATION105 = latlon -77.0 -93.125 0\n",
      "VSTATION106 = latlon -77.0 -92.5 0\n",
      "VSTATION107 = latlon -77.0 -91.875 0\n",
      "VSTATION108 = latlon -77.0 -91.25 0\n",
      "VSTATION109 = latlon -77.0 -90.625 0\n",
      "VSTATION110 = latlon -77.0 -90.0 0\n",
      "VSTATION111 = latlon -77.0 -89.375 0\n",
      "VSTATION112 = latlon -77.0 -88.75 0\n",
      "VSTATION113 = latlon -77.0 -88.125 0\n",
      "VSTATION114 = latlon -77.0 -87.5 0\n",
      "VSTATION115 = latlon -77.0 -86.875 0\n",
      "VSTATION116 = latlon -77.0 -86.25 0\n",
      "VSTATION117 = latlon -77.0 -85.625 0\n",
      "VSTATION118 = latlon -77.0 -85.0 0\n",
      "VSTATION119 = latlon -77.0 -84.375 0\n",
      "VSTATION120 = latlon -77.0 -83.75 0\n",
      "VSTATION121 = latlon -76.5 -100.625 0\n",
      "VSTATION122 = latlon -76.5 -100.0 0\n",
      "VSTATION123 = latlon -76.5 -99.375 0\n",
      "VSTATION124 = latlon -76.5 -98.75 0\n",
      "VSTATION125 = latlon -76.5 -98.125 0\n",
      "VSTATION126 = latlon -76.5 -97.5 0\n",
      "VSTATION127 = latlon -76.5 -96.875 0\n",
      "VSTATION128 = latlon -76.5 -96.25 0\n",
      "VSTATION129 = latlon -76.5 -95.625 0\n",
      "VSTATION130 = latlon -76.5 -95.0 0\n",
      "VSTATION131 = latlon -76.5 -94.375 0\n",
      "VSTATION132 = latlon -76.5 -93.75 0\n",
      "VSTATION133 = latlon -76.5 -93.125 0\n",
      "VSTATION134 = latlon -76.5 -92.5 0\n",
      "VSTATION135 = latlon -76.5 -91.875 0\n",
      "VSTATION136 = latlon -76.5 -91.25 0\n",
      "VSTATION137 = latlon -76.5 -90.625 0\n",
      "VSTATION138 = latlon -76.5 -90.0 0\n",
      "VSTATION139 = latlon -76.5 -89.375 0\n",
      "VSTATION140 = latlon -76.5 -88.75 0\n",
      "VSTATION141 = latlon -76.5 -88.125 0\n",
      "VSTATION142 = latlon -76.5 -87.5 0\n",
      "VSTATION143 = latlon -76.5 -86.875 0\n",
      "VSTATION144 = latlon -76.5 -86.25 0\n",
      "VSTATION145 = latlon -76.5 -85.625 0\n",
      "VSTATION146 = latlon -76.5 -85.0 0\n",
      "VSTATION147 = latlon -76.5 -84.375 0\n",
      "VSTATION148 = latlon -76.5 -83.75 0\n",
      "VSTATION149 = latlon -76.0 -100.0 0\n",
      "VSTATION150 = latlon -76.0 -99.375 0\n",
      "VSTATION151 = latlon -76.0 -98.75 0\n",
      "VSTATION152 = latlon -76.0 -98.125 0\n",
      "VSTATION153 = latlon -76.0 -97.5 0\n",
      "VSTATION154 = latlon -76.0 -96.875 0\n",
      "VSTATION155 = latlon -76.0 -96.25 0\n",
      "VSTATION156 = latlon -76.0 -95.625 0\n",
      "VSTATION157 = latlon -76.0 -95.0 0\n",
      "VSTATION158 = latlon -76.0 -94.375 0\n",
      "VSTATION159 = latlon -76.0 -93.75 0\n",
      "VSTATION160 = latlon -76.0 -93.125 0\n",
      "VSTATION161 = latlon -76.0 -92.5 0\n",
      "VSTATION162 = latlon -76.0 -91.875 0\n",
      "VSTATION163 = latlon -76.0 -91.25 0\n",
      "VSTATION164 = latlon -76.0 -90.625 0\n",
      "VSTATION165 = latlon -76.0 -90.0 0\n",
      "VSTATION166 = latlon -76.0 -89.375 0\n",
      "VSTATION167 = latlon -76.0 -88.75 0\n",
      "VSTATION168 = latlon -76.0 -88.125 0\n",
      "VSTATION169 = latlon -76.0 -87.5 0\n",
      "VSTATION170 = latlon -76.0 -86.875 0\n",
      "VSTATION171 = latlon -76.0 -86.25 0\n",
      "VSTATION172 = latlon -76.0 -85.625 0\n",
      "VSTATION173 = latlon -76.0 -85.0 0\n",
      "VSTATION174 = latlon -76.0 -84.375 0\n",
      "VSTATION175 = latlon -75.5 -99.375 0\n",
      "VSTATION176 = latlon -75.5 -98.75 0\n",
      "VSTATION177 = latlon -75.5 -98.125 0\n",
      "VSTATION178 = latlon -75.5 -97.5 0\n",
      "VSTATION179 = latlon -75.5 -96.875 0\n",
      "VSTATION180 = latlon -75.5 -96.25 0\n",
      "VSTATION181 = latlon -75.5 -95.625 0\n",
      "VSTATION182 = latlon -75.5 -95.0 0\n",
      "VSTATION183 = latlon -75.5 -94.375 0\n",
      "VSTATION184 = latlon -75.5 -93.75 0\n",
      "VSTATION185 = latlon -75.5 -93.125 0\n",
      "VSTATION186 = latlon -75.5 -92.5 0\n",
      "VSTATION187 = latlon -75.5 -91.875 0\n",
      "VSTATION188 = latlon -75.5 -91.25 0\n",
      "VSTATION189 = latlon -75.5 -90.625 0\n",
      "VSTATION190 = latlon -75.5 -90.0 0\n",
      "VSTATION191 = latlon -75.5 -89.375 0\n",
      "VSTATION192 = latlon -75.5 -88.75 0\n",
      "VSTATION193 = latlon -75.5 -88.125 0\n",
      "VSTATION194 = latlon -75.5 -87.5 0\n",
      "VSTATION195 = latlon -75.5 -86.875 0\n",
      "VSTATION196 = latlon -75.5 -86.25 0\n",
      "VSTATION197 = latlon -75.5 -85.625 0\n",
      "VSTATION198 = latlon -75.5 -85.0 0\n",
      "VSTATION199 = latlon -75.5 -84.375 0\n",
      "VSTATION200 = latlon -75.0 -99.375 0\n",
      "VSTATION201 = latlon -75.0 -98.75 0\n",
      "VSTATION202 = latlon -75.0 -98.125 0\n",
      "VSTATION203 = latlon -75.0 -97.5 0\n",
      "VSTATION204 = latlon -75.0 -96.875 0\n",
      "VSTATION205 = latlon -75.0 -96.25 0\n",
      "VSTATION206 = latlon -75.0 -95.625 0\n",
      "VSTATION207 = latlon -75.0 -95.0 0\n",
      "VSTATION208 = latlon -75.0 -94.375 0\n",
      "VSTATION209 = latlon -75.0 -93.75 0\n",
      "VSTATION210 = latlon -75.0 -93.125 0\n",
      "VSTATION211 = latlon -75.0 -92.5 0\n",
      "VSTATION212 = latlon -75.0 -91.875 0\n",
      "VSTATION213 = latlon -75.0 -91.25 0\n",
      "VSTATION214 = latlon -75.0 -90.625 0\n",
      "VSTATION215 = latlon -75.0 -90.0 0\n",
      "VSTATION216 = latlon -75.0 -89.375 0\n",
      "VSTATION217 = latlon -75.0 -88.75 0\n",
      "VSTATION218 = latlon -75.0 -88.125 0\n",
      "VSTATION219 = latlon -75.0 -87.5 0\n",
      "VSTATION220 = latlon -75.0 -86.875 0\n",
      "VSTATION221 = latlon -75.0 -86.25 0\n",
      "VSTATION222 = latlon -75.0 -85.625 0\n",
      "VSTATION223 = latlon -75.0 -85.0 0\n",
      "VSTATION224 = latlon -75.0 -84.375 0\n",
      "VSTATION225 = latlon -74.5 -98.75 0\n",
      "VSTATION226 = latlon -74.5 -98.125 0\n",
      "VSTATION227 = latlon -74.5 -97.5 0\n",
      "VSTATION228 = latlon -74.5 -96.875 0\n",
      "VSTATION229 = latlon -74.5 -96.25 0\n",
      "VSTATION230 = latlon -74.5 -95.625 0\n",
      "VSTATION231 = latlon -74.5 -95.0 0\n",
      "VSTATION232 = latlon -74.5 -94.375 0\n",
      "VSTATION233 = latlon -74.5 -93.75 0\n",
      "VSTATION234 = latlon -74.5 -93.125 0\n",
      "VSTATION235 = latlon -74.5 -92.5 0\n",
      "VSTATION236 = latlon -74.5 -91.875 0\n",
      "VSTATION237 = latlon -74.5 -91.25 0\n",
      "VSTATION238 = latlon -74.5 -90.625 0\n",
      "VSTATION239 = latlon -74.5 -90.0 0\n",
      "VSTATION240 = latlon -74.5 -89.375 0\n",
      "VSTATION241 = latlon -74.5 -88.75 0\n",
      "VSTATION242 = latlon -74.5 -88.125 0\n",
      "VSTATION243 = latlon -74.5 -87.5 0\n",
      "VSTATION244 = latlon -74.5 -86.875 0\n",
      "VSTATION245 = latlon -74.5 -86.25 0\n",
      "VSTATION246 = latlon -74.5 -85.625 0\n",
      "VSTATION247 = latlon -74.5 -85.0 0\n"
     ]
    }
   ],
   "source": [
    "f = open(\"station_list.lst\",'w')\n",
    "f.write(\"[INPUTEDITING]\\n\")\n",
    "\n",
    "for j in range(0, len(filter_X_wgs84)):\n",
    "    index = str(j + 1)\n",
    "    lat = str(round(filter_X_wgs84[j], 3))\n",
    "    lon = str(round(filter_Y_wgs84[j], 3))\n",
    "    \n",
    "    f.write(\"VSTATION\" + index + \" = latlon \" + lat + \" \" + lon + \" 0\\n\")\n",
    "    \n",
    "f.close()\n",
    "\n",
    "!cat station_list.lst\n",
    "!cp station_list.lst ../../snowpack/Scripts/create_smet_from_netcdf"
   ]
  },
  {
   "cell_type": "markdown",
   "metadata": {},
   "source": [
    "## Plot Alpine3D domain and MERRA-2 grid cells"
   ]
  },
  {
   "cell_type": "code",
   "execution_count": 31,
   "metadata": {},
   "outputs": [
    {
     "data": {
      "text/plain": [
       "<matplotlib.legend.Legend at 0x2ba0ffa582b0>"
      ]
     },
     "execution_count": 31,
     "metadata": {},
     "output_type": "execute_result"
    },
    {
     "data": {
      "image/png": "[encoded data removed]",
      "text/plain": [
       "<Figure size 720x720 with 1 Axes>"
      ]
     },
     "metadata": {
      "needs_background": "light"
     },
     "output_type": "display_data"
    }
   ],
   "source": [
    "# Map\n",
    "# Generate figure \n",
    "fig, axs = plt.subplots(1, 1, subplot_kw={'projection': crs_epsg},\n",
    "                        figsize=(10, 10))\n",
    "\n",
    "# Plot coastlines\n",
    "# axs.set_extent((-180, 180, -90, -65), ccrs.PlateCarree())\n",
    "axs.set_extent((-110, -70, -85, -70), ccrs.PlateCarree()) # Zoom in on Alpine-3D domain\n",
    "axs.add_geometries(df_epsg['geometry'], crs=crs_epsg,\n",
    "                      facecolor='none', edgecolor='black')\n",
    "\n",
    "# Plot model domain\n",
    "plt.scatter(left, bottom, c='r', label=\"A3D Domain\")\n",
    "plt.scatter(left, top, c='r')\n",
    "plt.scatter(right, bottom, c='r')\n",
    "plt.scatter(right, top, c='r')\n",
    "\n",
    "# Plot model domain dbumped\n",
    "plt.scatter(left - bump, bottom - bump, c='b', label=\"A3D Domain Bump\")\n",
    "plt.scatter(left - bump, top + bump, c='b')\n",
    "plt.scatter(right + bump, bottom - bump, c='b')\n",
    "plt.scatter(right + bump, top + bump, c='b')\n",
    "\n",
    "# Plot MERRA-2 grid cells\n",
    "plt.scatter(filter_Y_wgs84, filter_X_wgs84, transform=ccrs.Geodetic(), c='k', label=\"MERRA-2\")\n",
    "\n",
    "plt.legend()"
   ]
  },
  {
   "cell_type": "markdown",
   "metadata": {},
   "source": [
    "# Write a .lus file"
   ]
  },
  {
   "cell_type": "code",
   "execution_count": 26,
   "metadata": {},
   "outputs": [
    {
     "data": {
      "text/plain": [
       "49"
      ]
     },
     "execution_count": 26,
     "metadata": {},
     "output_type": "execute_result"
    },
    {
     "data": {
      "image/png": "[encoded data removed]",
      "text/plain": [
       "<Figure size 432x288 with 2 Axes>"
      ]
     },
     "metadata": {
      "needs_background": "light"
     },
     "output_type": "display_data"
    }
   ],
   "source": [
    "lus = np.zeros([nrow, ncol])\n",
    "gridX = np.linspace(left, right, ncol) #  ALPINE-3D grid \n",
    "gridY = np.linspace(top, bottom, nrow)\n",
    "\n",
    "# gridX_filter = gridX_filter[0:64]\n",
    "# gridY_filter = gridY_filter[0:64]\n",
    "\n",
    "for j in range(0, nrow): # loop over Y\n",
    "    for k in range(0, ncol): # loop over X\n",
    "        # For each A3D grid cell, find the index of the closest MERRA-2 grid cell\n",
    "        A3D_X = gridX[k]\n",
    "        A3D_Y = gridY[j]\n",
    "        distance =  np.sqrt(np.power(A3D_X - gridX_filter, 2) + np.power(A3D_Y - gridY_filter, 2))\n",
    "        lus[j, k] = np.argmin(distance) + 1\n",
    "        \n",
    "\n",
    "plt.imshow(lus)\n",
    "plt.colorbar()\n",
    "\n",
    "len(np.unique(lus))"
   ]
  },
  {
   "cell_type": "code",
   "execution_count": null,
   "metadata": {},
   "outputs": [],
   "source": [
    "lus.shape"
   ]
  },
  {
   "cell_type": "code",
   "execution_count": null,
   "metadata": {},
   "outputs": [],
   "source": [
    "'''\n",
    "Start HACK:\n",
    "Only use previously created smet files for bumped domain. Related to increasing the size of the domain to see how that effects simulations. \n",
    "'''\n",
    "\n",
    "ncol = 198\n",
    "nrow = 137\n",
    "\n",
    "# Define upper left and lower right domain corners in epsg 3031\n",
    "left = -1557500 # done\n",
    "bottom = -123500 # done\n",
    "\n",
    "lus = np.pad(lus, 15, mode='edge')\n",
    "\n",
    "'''\n",
    "END HACK\n",
    "'''\n",
    "\n",
    "lus_int = np.array(lus, dtype=int)\n",
    "\n",
    "# Define path to write file\n",
    "fname = \"../../input/surface-grids/dem.lus\"\n",
    "# fname = \"/scratch/summit/erke2265/dem.lus\"\n",
    "\n",
    "\n",
    "\n",
    "# Open file\n",
    "f = open(fname,'w')\n",
    "f.write(\"ncols        \" + str(ncol) + \"\\n\")\n",
    "f.write(\"nrows        \" + str(nrow) + \"\\n\")\n",
    "f.write(\"xllcorner        \" + str(left) + \"\\n\")\n",
    "f.write(\"yllcorner        \" + str(bottom) + \"\\n\")\n",
    "f.write(\"cellsize     1000.000000000000\\n\")\n",
    "f.write(\"NODATA_value  -9999\\n\")\n",
    "\n",
    "# Write individual data lines\n",
    "for j in range(0, lus.shape[0]):\n",
    "    line = np.array2string(lus_int[j,:], max_line_width=99999)\n",
    "    line = line[1:-1]\n",
    "    f.write(line + \"\\n\")\n",
    "\n",
    "# Close file\n",
    "f.close()\n",
    "\n",
    "# !cat ../../input/surface-grids/dem.lus\n",
    "# !cat /scratch/summit/erke2265/dem.lus"
   ]
  },
  {
   "cell_type": "markdown",
   "metadata": {},
   "source": [
    "## Write TSG grid"
   ]
  },
  {
   "cell_type": "code",
   "execution_count": null,
   "metadata": {},
   "outputs": [],
   "source": [
    "# Source and target EPSG\n",
    "src = osr.SpatialReference()\n",
    "tgt = osr.SpatialReference()\n",
    "src.ImportFromEPSG(3031) # WGS-84\n",
    "tgt.ImportFromEPSG(4326) # South Polar Stereo\n",
    "\n",
    "# Define transformation\n",
    "transform = osr.CoordinateTransformation(src, tgt)\n",
    "\n",
    "# TS_mean file\n",
    "TS_mean = xr.open_dataset(\"/pl/active/nasa_smb/MERRA2/yearly_files/TS_mean_1980_2017.nc\")\n",
    "TS_mean = TS_mean['TS'][0,:,:]\n",
    "\n",
    "# Define path to write file\n",
    "fname = \"../../input/surface-grids/TSG.asc\"\n",
    "# fname = \"/scratch/summit/erke2265//TSG.asc\"\n",
    "\n",
    "gridX = np.arange(left, left + 1000 * ncol, 1000)\n",
    "gridY = np.arange(bottom + 1000 * nrow, bottom, -1000)\n",
    "# gridY = np.arange(bottom, bottom + 1000 * ncol, 1000)\n",
    "\n",
    "\n",
    "\n",
    "# Open file\n",
    "f = open(fname,'w')\n",
    "f.write(\"ncols        \" + str(ncol) + \"\\n\")\n",
    "f.write(\"nrows        \" + str(nrow) + \"\\n\")\n",
    "f.write(\"xllcorner        \" + str(left) + \"\\n\")\n",
    "f.write(\"yllcorner        \" + str(bottom) + \"\\n\")\n",
    "f.write(\"cellsize     1000.000000000000\\n\")\n",
    "f.write(\"NODATA_value  -9999\\n\")\n",
    "\n",
    "# Loop over eachcell and find the closest TS_mean grid cell\n",
    "for j in range(0, nrow):\n",
    "    for k in range(0, ncol):\n",
    "        coords = transform.TransformPoint(float(gridX[k]), float(gridY[j]))\n",
    "        A3D_lat, A3D_lon = coords[0:2]\n",
    "        # This next line is slow, but could be sped up by setting A3D_lat and A3D_lon to contain all grid cells\n",
    "        # instead of one at a time. \n",
    "        TSG_ind = float(TS_mean.sel(lat=A3D_lat, lon=A3D_lon, method='nearest').values)\n",
    "        \n",
    "        f.write(str(TSG_ind) + \" \") # Write the closest TS_mean and a space\n",
    "    f.write(\"\\n\")\n",
    "\n",
    "# Close file\n",
    "f.close()"
   ]
  },
  {
   "cell_type": "markdown",
   "metadata": {},
   "source": [
    "## Write to_exec.lst file for each unique MERRA-2 grid cell "
   ]
  },
  {
   "cell_type": "code",
   "execution_count": null,
   "metadata": {},
   "outputs": [],
   "source": [
    "# Define path to write file\n",
    "fname = \"../../spinup/to_exec.lst\"\n",
    "\n",
    "# Open file\n",
    "f = open(fname,'w')\n",
    "\n",
    "for j in range(0, len(np.unique(lus))):\n",
    "    f.write(\"bash run.sh site_\" + str(int(np.unique(lus)[j])) + \"\\n\")\n",
    "    \n",
    "f.close()\n",
    "\n",
    "!cat ../../spinup/to_exec.lst"
   ]
  }
 ],
 "metadata": {
  "kernelspec": {
   "display_name": "alpine3d",
   "language": "python",
   "name": "alpine3d"
  },
  "language_info": {
   "codemirror_mode": {
    "name": "ipython",
    "version": 3
   },
   "file_extension": ".py",
   "mimetype": "text/x-python",
   "name": "python",
   "nbconvert_exporter": "python",
   "pygments_lexer": "ipython3",
   "version": "3.6.10"
  }
 },
 "nbformat": 4,
 "nbformat_minor": 4
}
