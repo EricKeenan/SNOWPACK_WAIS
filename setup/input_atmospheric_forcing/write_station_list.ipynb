{
 "cells": [
  {
   "cell_type": "markdown",
   "metadata": {},
   "source": [
    "# Script to identify which MERRA-2 grid cells are within the Alpine-3D bounding box. The output of the script should look like this.\n",
    "```\n",
    "[INPUT]\n",
    "VSTATION1 = latlon -65.5 -60.625 0\n",
    "VSTATION2 = latlon -71 70 0\n",
    "```"
   ]
  },
  {
   "cell_type": "markdown",
   "metadata": {},
   "source": [
    "## Import python packages"
   ]
  },
  {
   "cell_type": "code",
   "execution_count": 1,
   "metadata": {},
   "outputs": [],
   "source": [
    "import xarray as xr\n",
    "import numpy as np\n",
    "from osgeo import osr\n",
    "from pyproj import Geod\n",
    "import geopandas as gpd\n",
    "import cartopy.crs as ccrs\n",
    "import matplotlib.pyplot as plt"
   ]
  },
  {
   "cell_type": "markdown",
   "metadata": {},
   "source": [
    "## Define Alpine-3D coordinate corners (see SNOWPACK_WAIS/setup/input_surface_grids/create_input_surface_grids.sh)"
   ]
  },
  {
   "cell_type": "code",
   "execution_count": 2,
   "metadata": {},
   "outputs": [
    {
     "name": "stderr",
     "output_type": "stream",
     "text": [
      "/projects/erke2265/miniconda/envs/alpine3d/lib/python3.6/site-packages/pyproj/crs/crs.py:53: FutureWarning: '+init=<authority>:<code>' syntax is deprecated. '<authority>:<code>' is the preferred initialization method. When making the change, be mindful of axis order changes: https://pyproj4.github.io/pyproj/stable/gotchas.html#axis-order-changes-in-proj-6\n",
      "  return _prepare_from_string(\" \".join(pjargs))\n"
     ]
    },
    {
     "data": {
      "text/plain": [
       "<matplotlib.collections.PathCollection at 0x2b1c61a5da90>"
      ]
     },
     "execution_count": 2,
     "metadata": {},
     "output_type": "execute_result"
    },
    {
     "data": {
      "image/png": "[encoded data removed]",
      "text/plain": [
       "<Figure size 360x360 with 1 Axes>"
      ]
     },
     "metadata": {
      "needs_background": "light"
     },
     "output_type": "display_data"
    }
   ],
   "source": [
    "ncol = 168\n",
    "nrow = 107\n",
    "\n",
    "# Define upper left and lower right domain corners in epsg 3031\n",
    "ulx = -1542000 # done\n",
    "lry = -109000 # done\n",
    "\n",
    "uly = lry + 1000 * (nrow -1)\n",
    "lrx = ulx + 1000 * (ncol -1)\n",
    "\n",
    "\n",
    "# Plot corners on map\n",
    "# Coastline Data\n",
    "df = gpd.read_file(\"/pl/active/nasa_smb/Data/ADD_Coastline_low_res_polygon.shp\")\n",
    "crs_epsg = ccrs.SouthPolarStereo()\n",
    "df_epsg = df.to_crs(epsg='3031')\n",
    "\n",
    "# Map\n",
    "# Generate figure \n",
    "fig, axs = plt.subplots(1, 1, subplot_kw={'projection': crs_epsg},\n",
    "                        figsize=(5, 5))\n",
    "\n",
    "# Plot coastlines\n",
    "axs.set_extent((-180, 180, -90, -65), ccrs.PlateCarree())\n",
    "axs.add_geometries(df_epsg['geometry'], crs=crs_epsg,\n",
    "                      facecolor='none', edgecolor='black')\n",
    "\n",
    "# Plot model domain\n",
    "plt.scatter(ulx, lry, c='r')\n",
    "plt.scatter(ulx, uly, c='r')\n",
    "plt.scatter(lrx, lry, c='r')\n",
    "plt.scatter(lrx, uly, c='r')"
   ]
  },
  {
   "cell_type": "markdown",
   "metadata": {},
   "source": [
    "## Load MERRA-2 lat/lon"
   ]
  },
  {
   "cell_type": "code",
   "execution_count": 3,
   "metadata": {},
   "outputs": [],
   "source": [
    "# Load lat, lon\n",
    "ds = xr.open_dataset(\"/scratch/summit/erke2265/MERRA2/T2M_hourly_1980.nc\")\n",
    "grid_lat = ds['lat'].values\n",
    "grid_lon = ds['lon'].values\n",
    "\n",
    "# Create lat/lon arrays and reshape into vectors. To undo flatten, np.reshape(grid_lon, [len(ds['lat']), len(ds['lon'])])\n",
    "grid_lon, grid_lat = np.meshgrid(grid_lon, grid_lat)\n",
    "grid_lon = grid_lon.flatten()\n",
    "grid_lat = grid_lat.flatten()"
   ]
  },
  {
   "cell_type": "markdown",
   "metadata": {},
   "source": [
    "## Convert MERRA-2 lat/lon to epsg 3031"
   ]
  },
  {
   "cell_type": "code",
   "execution_count": 4,
   "metadata": {},
   "outputs": [],
   "source": [
    "# Source and target EPSG\n",
    "src = osr.SpatialReference()\n",
    "tgt = osr.SpatialReference()\n",
    "src.ImportFromEPSG(4326) # WGS-84\n",
    "tgt.ImportFromEPSG(3031) # South Polar Stereo\n",
    "\n",
    "# Define transformation\n",
    "transform = osr.CoordinateTransformation(src, tgt)\n",
    "\n",
    "# Initialize arrays\n",
    "grid_X = np.zeros(len(grid_lon)); grid_X[:] = np.nan\n",
    "grid_Y = np.zeros(len(grid_lat)); grid_Y[:] = np.nan\n",
    "\n",
    "# Perform coordinate transformation\n",
    "for j in range(0, len(grid_X)):\n",
    "    coords = transform.TransformPoint(grid_lat[j], grid_lon[j])\n",
    "    grid_X[j], grid_Y[j] = coords[0:2]\n"
   ]
  },
  {
   "cell_type": "markdown",
   "metadata": {},
   "source": [
    "## Determine which MERRA-2 grid cell are within the Alpine3D domain"
   ]
  },
  {
   "cell_type": "code",
   "execution_count": 5,
   "metadata": {},
   "outputs": [],
   "source": [
    "def get_domain(gridX, gridY, domain_left, domain_right, domain_bottom, domain_top):\n",
    "    filter_func = np.vectorize(lambda gridX, gridY: gridX <= domain_right and gridX >= domain_left and gridY >= domain_bottom and gridY <= domain_top)\n",
    "    \n",
    "    gridX_filter = gridX[filter_func(gridX, gridY)]\n",
    "    gridY_filter = gridY[filter_func(gridX, gridY)]\n",
    "    \n",
    "    return gridX_filter, gridY_filter\n",
    "\n",
    "# Call filter function\n",
    "gridX_filter, gridY_filter = get_domain(grid_X, grid_Y, ulx, lrx, lry, uly)"
   ]
  },
  {
   "cell_type": "markdown",
   "metadata": {},
   "source": [
    "## Convert MERRA-2 coordinates back into regular lat/lon"
   ]
  },
  {
   "cell_type": "code",
   "execution_count": 6,
   "metadata": {},
   "outputs": [],
   "source": [
    "# Source and target EPSG\n",
    "src = osr.SpatialReference()\n",
    "tgt = osr.SpatialReference()\n",
    "src.ImportFromEPSG(3031) # WGS-84\n",
    "tgt.ImportFromEPSG(4326) # South Polar Stereo\n",
    "\n",
    "# Define transformation\n",
    "transform = osr.CoordinateTransformation(src, tgt)\n",
    "\n",
    "# Initialize arrays\n",
    "filter_X = np.zeros(len(gridX_filter)); filter_X[:] = np.nan\n",
    "filter_Y = np.zeros(len(gridY_filter)); filter_Y[:] = np.nan\n",
    "\n",
    "# Perform coordinate transformation\n",
    "for j in range(0, len(filter_X)):\n",
    "    coords = transform.TransformPoint(gridX_filter[j], gridY_filter[j])\n",
    "    filter_X[j], filter_Y[j] = coords[0:2]\n",
    "\n"
   ]
  },
  {
   "cell_type": "markdown",
   "metadata": {},
   "source": [
    "## Write station_list.lst"
   ]
  },
  {
   "cell_type": "code",
   "execution_count": 7,
   "metadata": {},
   "outputs": [
    {
     "name": "stdout",
     "output_type": "stream",
     "text": [
      "[INPUT]\n",
      "VSTATION1 = latlon -77.0 -94.375 0\n",
      "VSTATION2 = latlon -77.0 -93.75 0\n",
      "VSTATION3 = latlon -77.0 -93.125 0\n",
      "VSTATION4 = latlon -77.0 -92.5 0\n",
      "VSTATION5 = latlon -77.0 -91.875 0\n",
      "VSTATION6 = latlon -77.0 -91.25 0\n",
      "VSTATION7 = latlon -77.0 -90.625 0\n",
      "VSTATION8 = latlon -76.5 -93.75 0\n",
      "VSTATION9 = latlon -76.5 -93.125 0\n",
      "VSTATION10 = latlon -76.5 -92.5 0\n",
      "VSTATION11 = latlon -76.5 -91.875 0\n",
      "VSTATION12 = latlon -76.5 -91.25 0\n",
      "VSTATION13 = latlon -76.5 -90.625 0\n",
      "VSTATION14 = latlon -76.0 -93.75 0\n",
      "VSTATION15 = latlon -76.0 -93.125 0\n",
      "VSTATION16 = latlon -76.0 -92.5 0\n",
      "VSTATION17 = latlon -76.0 -91.875 0\n",
      "VSTATION18 = latlon -76.0 -91.25 0\n",
      "VSTATION19 = latlon -76.0 -90.625 0\n"
     ]
    }
   ],
   "source": [
    "f = open(\"station_list.lst\",'w')\n",
    "f.write(\"[INPUT]\\n\")\n",
    "\n",
    "for j in range(0, len(filter_X)):\n",
    "    index = str(j + 1)\n",
    "    lat = str(round(filter_X[j], 3))\n",
    "    lon = str(round(filter_Y[j], 3))\n",
    "    \n",
    "    f.write(\"VSTATION\" + index + \" = latlon \" + lat + \" \" + lon + \" 0\\n\")\n",
    "    \n",
    "f.close()\n",
    "\n",
    "!cat station_list.lst"
   ]
  }
 ],
 "metadata": {
  "kernelspec": {
   "display_name": "alpine3d",
   "language": "python",
   "name": "alpine3d"
  },
  "language_info": {
   "codemirror_mode": {
    "name": "ipython",
    "version": 3
   },
   "file_extension": ".py",
   "mimetype": "text/x-python",
   "name": "python",
   "nbconvert_exporter": "python",
   "pygments_lexer": "ipython3",
   "version": "3.6.10"
  }
 },
 "nbformat": 4,
 "nbformat_minor": 4
}
