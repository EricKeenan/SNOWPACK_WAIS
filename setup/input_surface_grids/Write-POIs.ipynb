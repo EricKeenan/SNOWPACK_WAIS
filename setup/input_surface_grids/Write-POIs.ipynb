{
 "cells": [
  {
   "cell_type": "markdown",
   "metadata": {},
   "source": [
    "# Add POI points to `dem.poi`. "
   ]
  },
  {
   "cell_type": "code",
   "execution_count": 1,
   "metadata": {},
   "outputs": [],
   "source": [
    "import numpy as np\n",
    "from osgeo import osr\n",
    "import pyproj\n",
    "from pyproj import Geod\n",
    "from pyproj import Proj, transform\n",
    "from fiona.crs import from_epsg\n",
    "import matplotlib.pyplot as plt\n",
    "import xarray as xr"
   ]
  },
  {
   "cell_type": "markdown",
   "metadata": {},
   "source": [
    "# Retrieve the X and Y coordinates of each point"
   ]
  },
  {
   "cell_type": "code",
   "execution_count": 2,
   "metadata": {},
   "outputs": [],
   "source": [
    "# Function to get indices of observations inside of the model domain\n",
    "def get_domain_obs(obsX, obsY, obs_accum, domain_left, domain_right, domain_bottom, domain_top, obs_lat, obs_lon):\n",
    "    '''\n",
    "    Find obs whose X and Y are:\n",
    "        X: greater than domain_left and less than domain_right\n",
    "        Y: greater than domain_bottom and less than domain_top\n",
    "    ''' \n",
    "    filter_func = np.vectorize(lambda obsX, obsY: obsX <= domain_right and obsX >= domain_left and obsY >= domain_bottom and obsY <= domain_top)\n",
    "    indices = filter_func(obsX, obsY)\n",
    "    obs_accum_filter = obs_accum[indices]\n",
    "    obsX_filter = obsX[indices]\n",
    "    obsY_filter = obsY[indices]\n",
    "    obs_lat_filter = obs_lat[indices]\n",
    "    obs_lon_filter = obs_lon[indices]\n",
    "    \n",
    "    return obsX_filter, obsY_filter, obs_accum_filter, obs_lat_filter, obs_lon_filter"
   ]
  },
  {
   "cell_type": "code",
   "execution_count": 3,
   "metadata": {},
   "outputs": [],
   "source": [
    "ds = xr.open_dataset(\"/scratch/summit/erke2265/SNOWPACK_WAIS/output/grids/a3d_grids_1980.nc\")\n",
    "ds = ds.isel(easting=slice(15, -15))\n",
    "ds = ds.isel(northing=slice(15, -15))"
   ]
  },
  {
   "cell_type": "code",
   "execution_count": 4,
   "metadata": {},
   "outputs": [],
   "source": [
    "domain_left = ds['easting'].min()\n",
    "domain_right = ds['easting'].max()\n",
    "domain_bottom = ds['northing'].min()\n",
    "domain_top = ds['northing'].max()"
   ]
  },
  {
   "cell_type": "code",
   "execution_count": 5,
   "metadata": {},
   "outputs": [],
   "source": [
    "obs_lat, obs_lon, obs_accumulation, relative_accumulation, relative_accumulation_error = \\\n",
    "    np.loadtxt(\"/pl/active/nasa_smb/Data/Accumulation_Data_Product.csv\", skiprows=1, delimiter=',', unpack=True)"
   ]
  },
  {
   "cell_type": "code",
   "execution_count": 6,
   "metadata": {},
   "outputs": [],
   "source": [
    "# Source and target EPSG\n",
    "src = osr.SpatialReference()\n",
    "tgt = osr.SpatialReference()\n",
    "src.ImportFromEPSG(4326) # WGS-84\n",
    "tgt.ImportFromEPSG(3031) # South Polar Stereo\n",
    "\n",
    "# Define transformation\n",
    "transform = osr.CoordinateTransformation(src, tgt)\n",
    "\n",
    "# Initialize arrays\n",
    "obs_X = np.zeros(len(obs_lon)); obs_X[:] = np.nan\n",
    "obs_Y = np.zeros(len(obs_lon)); obs_Y[:] = np.nan\n",
    "\n",
    "# Perform transformation\n",
    "for j in range(0, len(obs_X)):\n",
    "    coords = transform.TransformPoint(obs_lat[j], obs_lon[j]) # Lat, Lon\n",
    "    obs_X[j], obs_Y[j] = coords[0:2]\n",
    "\n",
    "obs_X, obs_Y, obs_accumulation, obs_lat, obs_lon = get_domain_obs(obs_X, obs_Y, obs_accumulation, domain_left, domain_right, domain_bottom, domain_top, obs_lat, obs_lon)"
   ]
  },
  {
   "cell_type": "markdown",
   "metadata": {},
   "source": [
    "# Append X and Y coordinates to `dem.poi`"
   ]
  },
  {
   "cell_type": "code",
   "execution_count": 7,
   "metadata": {},
   "outputs": [
    {
     "name": "stdout",
     "output_type": "stream",
     "text": [
      "dem.poi\n"
     ]
    }
   ],
   "source": [
    "tgt_file = \"dem.poi\"\n",
    "print(tgt_file)"
   ]
  },
  {
   "cell_type": "code",
   "execution_count": 8,
   "metadata": {},
   "outputs": [],
   "source": [
    "# Indices to plot\n",
    "ind0 = 660\n",
    "indf = 2000\n",
    "indices = np.arange(ind0, indf)"
   ]
  },
  {
   "cell_type": "code",
   "execution_count": 9,
   "metadata": {},
   "outputs": [],
   "source": [
    "obs_X = obs_X[indices]\n",
    "obs_Y = obs_Y[indices]"
   ]
  },
  {
   "cell_type": "code",
   "execution_count": 10,
   "metadata": {},
   "outputs": [
    {
     "data": {
      "text/plain": [
       "[<matplotlib.lines.Line2D at 0x2b06a2747e48>]"
      ]
     },
     "execution_count": 10,
     "metadata": {},
     "output_type": "execute_result"
    },
    {
     "data": {
      "image/png": "[encoded data removed]",
      "text/plain": [
       "<Figure size 432x288 with 1 Axes>"
      ]
     },
     "metadata": {
      "needs_background": "light"
     },
     "output_type": "display_data"
    }
   ],
   "source": [
    "plt.plot(obs_X, obs_Y)"
   ]
  },
  {
   "cell_type": "code",
   "execution_count": 11,
   "metadata": {},
   "outputs": [],
   "source": [
    "file = open(tgt_file, \"a\")  # append mode\n",
    "file.write(\"\\n\")\n",
    "for j in range(0, len(obs_X)):\n",
    "    line = str(obs_X[j]) + \" \" + str(obs_Y[j]) + \" 0 \\n\"\n",
    "    file.write(line)               \n",
    "file.close()"
   ]
  }
 ],
 "metadata": {
  "kernelspec": {
   "display_name": "alpine3d",
   "language": "python",
   "name": "alpine3d"
  },
  "language_info": {
   "codemirror_mode": {
    "name": "ipython",
    "version": 3
   },
   "file_extension": ".py",
   "mimetype": "text/x-python",
   "name": "python",
   "nbconvert_exporter": "python",
   "pygments_lexer": "ipython3",
   "version": "3.6.10"
  }
 },
 "nbformat": 4,
 "nbformat_minor": 4
}
