{
 "cells": [
  {
   "cell_type": "markdown",
   "metadata": {},
   "source": [
    "# Make a movie of meteorology"
   ]
  },
  {
   "cell_type": "code",
   "execution_count": 1,
   "metadata": {},
   "outputs": [],
   "source": [
    "import xarray as xr\n",
    "import matplotlib.pyplot as plt\n",
    "import numpy as np\n",
    "from palettable.colorbrewer.diverging import RdBu_11\n",
    "from palettable.colorbrewer.sequential import *\n",
    "import glob\n",
    "import moviepy.editor as mpy"
   ]
  },
  {
   "cell_type": "code",
   "execution_count": 2,
   "metadata": {},
   "outputs": [],
   "source": [
    "# Alpine-3D grids\n",
    "ds = xr.open_dataset(\"../output/grids/a3d_grids.nc\")\n",
    "\n",
    "# SNOWPACK topography \n",
    "dem = np.flipud(np.loadtxt(\"../input/surface-grids/dem.asc\", skiprows=6))\n",
    "dem = xr.DataArray(dem, coords=[ds['northing'], ds['easting']], dims=['northing', 'easting'])\n",
    "\n",
    "# Trim grids\n",
    "n_trim = 15\n",
    "ds = ds.isel(easting=slice(n_trim, -n_trim))\n",
    "ds = ds.isel(northing=slice(n_trim, -n_trim))\n",
    "dem = dem.isel(easting=slice(n_trim, -n_trim))\n",
    "dem = dem.isel(northing=slice(n_trim, -n_trim))\n",
    "\n",
    "# Get eastins and northings\n",
    "x_snowpack = ds['easting']\n",
    "y_snowpack = ds['northing']"
   ]
  },
  {
   "cell_type": "code",
   "execution_count": 3,
   "metadata": {},
   "outputs": [
    {
     "name": "stdout",
     "output_type": "stream",
     "text": [
      "Min = 0.13664201\n",
      "Max = 17.35582\n"
     ]
    }
   ],
   "source": [
    "# Wind Speed\n",
    "A3D_var = ds['ws']\n",
    "colormap = Purples_9.mpl_colormap\n",
    "title = \"Wind Speed [m/s]\"\n",
    "\n",
    "# # SWE\n",
    "# A3D_var = ds['swe'] - ds['swe'].isel(time=0)\n",
    "# A3D_var = A3D_var.resample(time='6H').mean(dim='time') * 1000\n",
    "# colormap = \"viridis\"\n",
    "# title = \"Surface Mass Balance [mm w.e.]\"\n",
    "\n",
    "# Time slice\n",
    "n_0 = 7200\n",
    "n_f = 7300\n",
    "A3D_var = A3D_var.isel(time=slice(n_0, n_f))\n",
    "\n",
    "# Get variable max/min\n",
    "maxima = A3D_var.max()\n",
    "minima = A3D_var.min()\n",
    "print(\"Min = \" + str(minima.values))\n",
    "print(\"Max = \" + str(maxima.values))\n",
    "# maxima = 15\n",
    "# minima = 0\n",
    "# print(\"Min = \" + str(minima))\n",
    "# print(\"Max = \" + str(maxima))"
   ]
  },
  {
   "cell_type": "code",
   "execution_count": 4,
   "metadata": {},
   "outputs": [],
   "source": [
    "# Clear old images, gifs,and movies\n",
    "!mkdir -p movie_frame\n",
    "!rm -f movie.gif\n",
    "!rm -f movie.mp4\n",
    "!rm -f movie_frame/*"
   ]
  },
  {
   "cell_type": "code",
   "execution_count": 5,
   "metadata": {},
   "outputs": [
    {
     "name": "stdout",
     "output_type": "stream",
     "text": [
      "Working on time step: 0 of 100\n",
      "Working on time step: 1 of 100\n",
      "Working on time step: 2 of 100\n",
      "Working on time step: 3 of 100\n",
      "Working on time step: 4 of 100\n",
      "Working on time step: 5 of 100\n",
      "Working on time step: 6 of 100\n",
      "Working on time step: 7 of 100\n",
      "Working on time step: 8 of 100\n",
      "Working on time step: 9 of 100\n",
      "Working on time step: 10 of 100\n",
      "Working on time step: 11 of 100\n",
      "Working on time step: 12 of 100\n",
      "Working on time step: 13 of 100\n",
      "Working on time step: 14 of 100\n",
      "Working on time step: 15 of 100\n",
      "Working on time step: 16 of 100\n",
      "Working on time step: 17 of 100\n",
      "Working on time step: 18 of 100\n",
      "Working on time step: 19 of 100\n",
      "Working on time step: 20 of 100\n",
      "Working on time step: 21 of 100\n",
      "Working on time step: 22 of 100\n",
      "Working on time step: 23 of 100\n",
      "Working on time step: 24 of 100\n",
      "Working on time step: 25 of 100\n",
      "Working on time step: 26 of 100\n",
      "Working on time step: 27 of 100\n",
      "Working on time step: 28 of 100\n",
      "Working on time step: 29 of 100\n",
      "Working on time step: 30 of 100\n",
      "Working on time step: 31 of 100\n",
      "Working on time step: 32 of 100\n",
      "Working on time step: 33 of 100\n",
      "Working on time step: 34 of 100\n",
      "Working on time step: 35 of 100\n",
      "Working on time step: 36 of 100\n",
      "Working on time step: 37 of 100\n",
      "Working on time step: 38 of 100\n",
      "Working on time step: 39 of 100\n",
      "Working on time step: 40 of 100\n",
      "Working on time step: 41 of 100\n",
      "Working on time step: 42 of 100\n",
      "Working on time step: 43 of 100\n",
      "Working on time step: 44 of 100\n",
      "Working on time step: 45 of 100\n",
      "Working on time step: 46 of 100\n",
      "Working on time step: 47 of 100\n",
      "Working on time step: 48 of 100\n",
      "Working on time step: 49 of 100\n",
      "Working on time step: 50 of 100\n",
      "Working on time step: 51 of 100\n",
      "Working on time step: 52 of 100\n",
      "Working on time step: 53 of 100\n",
      "Working on time step: 54 of 100\n",
      "Working on time step: 55 of 100\n",
      "Working on time step: 56 of 100\n",
      "Working on time step: 57 of 100\n",
      "Working on time step: 58 of 100\n",
      "Working on time step: 59 of 100\n",
      "Working on time step: 60 of 100\n",
      "Working on time step: 61 of 100\n",
      "Working on time step: 62 of 100\n",
      "Working on time step: 63 of 100\n",
      "Working on time step: 64 of 100\n",
      "Working on time step: 65 of 100\n",
      "Working on time step: 66 of 100\n",
      "Working on time step: 67 of 100\n",
      "Working on time step: 68 of 100\n",
      "Working on time step: 69 of 100\n",
      "Working on time step: 70 of 100\n",
      "Working on time step: 71 of 100\n",
      "Working on time step: 72 of 100\n",
      "Working on time step: 73 of 100\n",
      "Working on time step: 74 of 100\n",
      "Working on time step: 75 of 100\n",
      "Working on time step: 76 of 100\n",
      "Working on time step: 77 of 100\n",
      "Working on time step: 78 of 100\n",
      "Working on time step: 79 of 100\n",
      "Working on time step: 80 of 100\n",
      "Working on time step: 81 of 100\n",
      "Working on time step: 82 of 100\n",
      "Working on time step: 83 of 100\n",
      "Working on time step: 84 of 100\n",
      "Working on time step: 85 of 100\n",
      "Working on time step: 86 of 100\n",
      "Working on time step: 87 of 100\n",
      "Working on time step: 88 of 100\n",
      "Working on time step: 89 of 100\n",
      "Working on time step: 90 of 100\n",
      "Working on time step: 91 of 100\n",
      "Working on time step: 92 of 100\n",
      "Working on time step: 93 of 100\n",
      "Working on time step: 94 of 100\n",
      "Working on time step: 95 of 100\n",
      "Working on time step: 96 of 100\n",
      "Working on time step: 97 of 100\n",
      "Working on time step: 98 of 100\n",
      "Working on time step: 99 of 100\n"
     ]
    }
   ],
   "source": [
    "# Make movie frames\n",
    "\n",
    "for time_step in range(0, len(A3D_var['time']), 1):\n",
    "# for time_step in range(0, 1, 1):\n",
    "\n",
    "    # Plot map of mean wind\n",
    "    print(\"Working on time step: \" + str(time_step) + \" of \" + str(len(A3D_var['time'])))\n",
    "    f = plt.figure(figsize=(30, 15))\n",
    "\n",
    "    # DEM\n",
    "    contour_levels = np.linspace(dem.min(), dem.max(), 25)\n",
    "    contour = plt.contour(x_snowpack.values, y_snowpack.values, dem, contour_levels, linestyles='solid', colors='black')\n",
    "    plt.clabel(contour, fontsize=20, fmt = '%.0f', inline=True)\n",
    "    \n",
    "    # Meteo variable\n",
    "    plt.pcolor(x_snowpack.values, y_snowpack.values, A3D_var.isel(time=time_step), \\\n",
    "               cmap=colormap, vmin=minima, vmax=maxima)\n",
    "    plt.title(str(A3D_var['time'][time_step].values)[0:19] + \" \" + title, fontsize=32)\n",
    "    plt.xlabel(\"Easting\", fontsize=32)\n",
    "    plt.ylabel(\"Northing\", fontsize=32)\n",
    "    plt.xticks(fontsize=20)\n",
    "    plt.yticks(fontsize=20)\n",
    "    cb = plt.colorbar()\n",
    "    cb.ax.tick_params(labelsize=32)\n",
    "    \n",
    "    #Save Figure with image number zero padding \n",
    "    if time_step < 10: # 1 digit\n",
    "        plt.savefig(\"movie_frame/frame_000\" + str(time_step) + \".png\", dpi=100)\n",
    "    elif time_step < 100 and time_step > 9: # 2 digits\n",
    "        plt.savefig(\"movie_frame/frame_00\" + str(time_step) + \".png\", dpi=100)\n",
    "    elif time_step < 1000 and time_step > 99: # 3 digits\n",
    "        plt.savefig(\"movie_frame/frame_0\" + str(time_step) + \".png\", dpi=100)\n",
    "    else: # 4 digits\n",
    "        plt.savefig(\"movie_frame/frame_\" + str(time_step) + \".png\", dpi=100)\n",
    "    f.clear()\n",
    "    plt.close(f)\n",
    "    plt.close()"
   ]
  },
  {
   "cell_type": "code",
   "execution_count": 7,
   "metadata": {},
   "outputs": [
    {
     "name": "stderr",
     "output_type": "stream",
     "text": [
      "t:   2%|▏         | 2/100 [00:00<00:05, 18.85it/s, now=None]"
     ]
    },
    {
     "name": "stdout",
     "output_type": "stream",
     "text": [
      "Moviepy - Building video movie.mp4.\n",
      "Moviepy - Writing video movie.mp4\n",
      "\n"
     ]
    },
    {
     "name": "stderr",
     "output_type": "stream",
     "text": [
      "                                                              \r"
     ]
    },
    {
     "name": "stdout",
     "output_type": "stream",
     "text": [
      "Moviepy - Done !\n",
      "Moviepy - video ready movie.mp4\n"
     ]
    }
   ],
   "source": [
    "# Make a .mp4 movie and gif\n",
    "file_list = sorted(glob.glob('movie_frame/*.png'))\n",
    "clip = mpy.ImageSequenceClip(file_list, fps=30)\n",
    "clip.write_videofile('movie.mp4')\n",
    "# clip.write_gif('movie.gif')"
   ]
  },
  {
   "cell_type": "code",
   "execution_count": null,
   "metadata": {},
   "outputs": [],
   "source": [
    "# Transect movie\n",
    "northing_ind = 29\n",
    "ymax = A3D_var[:,northing_ind,:].max()\n",
    "\n",
    "# for time_step in range(0, len(A3D_var['time']), 2):\n",
    "for time_step in range(0, 1, 1):\n",
    "\n",
    "    # Plot map of mean wind\n",
    "    print(\"Working on time step: \" + str(time_step) + \" of \" + str(len(A3D_var['time'])))\n",
    "    f = plt.figure(figsize=(30, 10))\n",
    "\n",
    "    # Meteo variable\n",
    "    A3D_var[time_step, northing_ind, :].plot()\n",
    "    plt.grid()\n",
    "    plt.ylim([0, ymax])\n",
    "    \n",
    "    #Save Figure with image number zero padding \n",
    "    if time_step < 10: # 1 digit\n",
    "        plt.savefig(\"movie_frame/frame_000\" + str(time_step) + \".png\", dpi=100)\n",
    "    elif time_step < 100 and time_step > 9: # 2 digits\n",
    "        plt.savefig(\"movie_frame/frame_00\" + str(time_step) + \".png\", dpi=100)\n",
    "    elif time_step < 1000 and time_step > 99: # 3 digits\n",
    "        plt.savefig(\"movie_frame/frame_0\" + str(time_step) + \".png\", dpi=100)\n",
    "    else: # 4 digits\n",
    "        plt.savefig(\"movie_frame/frame_\" + str(time_step) + \".png\", dpi=100)\n",
    "    f.clear()\n",
    "    plt.close(f)\n",
    "    plt.close()"
   ]
  },
  {
   "cell_type": "code",
   "execution_count": null,
   "metadata": {},
   "outputs": [],
   "source": [
    "# Make a .mp4 movie and gif\n",
    "file_list = sorted(glob.glob('movie_frame/*.png'))\n",
    "clip = mpy.ImageSequenceClip(file_list, fps=15)\n",
    "clip.write_videofile('movie.mp4')\n",
    "# clip.write_gif('movie.gif')"
   ]
  },
  {
   "cell_type": "code",
   "execution_count": null,
   "metadata": {},
   "outputs": [],
   "source": []
  }
 ],
 "metadata": {
  "kernelspec": {
   "display_name": "alpine3d",
   "language": "python",
   "name": "alpine3d"
  },
  "language_info": {
   "codemirror_mode": {
    "name": "ipython",
    "version": 3
   },
   "file_extension": ".py",
   "mimetype": "text/x-python",
   "name": "python",
   "nbconvert_exporter": "python",
   "pygments_lexer": "ipython3",
   "version": "3.6.10"
  }
 },
 "nbformat": 4,
 "nbformat_minor": 4
}
