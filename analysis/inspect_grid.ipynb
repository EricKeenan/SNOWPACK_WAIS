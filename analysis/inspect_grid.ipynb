{
 "cells": [
  {
   "cell_type": "code",
   "execution_count": 47,
   "metadata": {},
   "outputs": [],
   "source": [
    "import xarray as xr\n",
    "import pandas as pd\n",
    "import numpy as np\n",
    "import matplotlib.pyplot as plt"
   ]
  },
  {
   "cell_type": "code",
   "execution_count": 48,
   "metadata": {},
   "outputs": [
    {
     "name": "stdout",
     "output_type": "stream",
     "text": [
      "/gpfs/summit/scratch/erke2265/SNOWPACK_WAIS/analysis\n"
     ]
    }
   ],
   "source": [
    "%%bash\n",
    "pwd\n",
    "# ls -t ../../nc_storage\n",
    "# squeue --user=${USER} --start"
   ]
  },
  {
   "cell_type": "code",
   "execution_count": 49,
   "metadata": {},
   "outputs": [],
   "source": [
    "# I have erosion between timestep 8683 and 8783"
   ]
  },
  {
   "cell_type": "code",
   "execution_count": 50,
   "metadata": {},
   "outputs": [],
   "source": [
    "ds = xr.open_dataset(\"../output/grids/a3d_grids_1980.nc\") # there should be erosion by the 18th timestep\n",
    "# ds = xr.open_dataset(\"../../nc_storage/wn_ratio_less.nc\") \n",
    "# ds = ds.isel(time=slice(0, 8000))"
   ]
  },
  {
   "cell_type": "code",
   "execution_count": 51,
   "metadata": {},
   "outputs": [
    {
     "data": {
      "text/html": [
       "<div><svg style=\"position: absolute; width: 0; height: 0; overflow: hidden\">\n",
       "<defs>\n",
       "<symbol id=\"icon-database\" viewBox=\"0 0 32 32\">\n",
       "<title>Show/Hide data repr</title>\n",
       "<path d=\"M16 0c-8.837 0-16 2.239-16 5v4c0 2.761 7.163 5 16 5s16-2.239 16-5v-4c0-2.761-7.163-5-16-5z\"></path>\n",
       "<path d=\"M16 17c-8.837 0-16-2.239-16-5v6c0 2.761 7.163 5 16 5s16-2.239 16-5v-6c0 2.761-7.163 5-16 5z\"></path>\n",
       "<path d=\"M16 26c-8.837 0-16-2.239-16-5v6c0 2.761 7.163 5 16 5s16-2.239 16-5v-6c0 2.761-7.163 5-16 5z\"></path>\n",
       "</symbol>\n",
       "<symbol id=\"icon-file-text2\" viewBox=\"0 0 32 32\">\n",
       "<title>Show/Hide attributes</title>\n",
       "<path d=\"M28.681 7.159c-0.694-0.947-1.662-2.053-2.724-3.116s-2.169-2.030-3.116-2.724c-1.612-1.182-2.393-1.319-2.841-1.319h-15.5c-1.378 0-2.5 1.121-2.5 2.5v27c0 1.378 1.122 2.5 2.5 2.5h23c1.378 0 2.5-1.122 2.5-2.5v-19.5c0-0.448-0.137-1.23-1.319-2.841zM24.543 5.457c0.959 0.959 1.712 1.825 2.268 2.543h-4.811v-4.811c0.718 0.556 1.584 1.309 2.543 2.268zM28 29.5c0 0.271-0.229 0.5-0.5 0.5h-23c-0.271 0-0.5-0.229-0.5-0.5v-27c0-0.271 0.229-0.5 0.5-0.5 0 0 15.499-0 15.5 0v7c0 0.552 0.448 1 1 1h7v19.5z\"></path>\n",
       "<path d=\"M23 26h-14c-0.552 0-1-0.448-1-1s0.448-1 1-1h14c0.552 0 1 0.448 1 1s-0.448 1-1 1z\"></path>\n",
       "<path d=\"M23 22h-14c-0.552 0-1-0.448-1-1s0.448-1 1-1h14c0.552 0 1 0.448 1 1s-0.448 1-1 1z\"></path>\n",
       "<path d=\"M23 18h-14c-0.552 0-1-0.448-1-1s0.448-1 1-1h14c0.552 0 1 0.448 1 1s-0.448 1-1 1z\"></path>\n",
       "</symbol>\n",
       "</defs>\n",
       "</svg>\n",
       "<style>/* CSS stylesheet for displaying xarray objects in jupyterlab.\n",
       " *\n",
       " */\n",
       "\n",
       ":root {\n",
       "  --xr-font-color0: var(--jp-content-font-color0, rgba(0, 0, 0, 1));\n",
       "  --xr-font-color2: var(--jp-content-font-color2, rgba(0, 0, 0, 0.54));\n",
       "  --xr-font-color3: var(--jp-content-font-color3, rgba(0, 0, 0, 0.38));\n",
       "  --xr-border-color: var(--jp-border-color2, #e0e0e0);\n",
       "  --xr-disabled-color: var(--jp-layout-color3, #bdbdbd);\n",
       "  --xr-background-color: var(--jp-layout-color0, white);\n",
       "  --xr-background-color-row-even: var(--jp-layout-color1, white);\n",
       "  --xr-background-color-row-odd: var(--jp-layout-color2, #eeeeee);\n",
       "}\n",
       "\n",
       ".xr-wrap {\n",
       "  min-width: 300px;\n",
       "  max-width: 700px;\n",
       "}\n",
       "\n",
       ".xr-header {\n",
       "  padding-top: 6px;\n",
       "  padding-bottom: 6px;\n",
       "  margin-bottom: 4px;\n",
       "  border-bottom: solid 1px var(--xr-border-color);\n",
       "}\n",
       "\n",
       ".xr-header > div,\n",
       ".xr-header > ul {\n",
       "  display: inline;\n",
       "  margin-top: 0;\n",
       "  margin-bottom: 0;\n",
       "}\n",
       "\n",
       ".xr-obj-type,\n",
       ".xr-array-name {\n",
       "  margin-left: 2px;\n",
       "  margin-right: 10px;\n",
       "}\n",
       "\n",
       ".xr-obj-type {\n",
       "  color: var(--xr-font-color2);\n",
       "}\n",
       "\n",
       ".xr-sections {\n",
       "  padding-left: 0 !important;\n",
       "  display: grid;\n",
       "  grid-template-columns: 150px auto auto 1fr 20px 20px;\n",
       "}\n",
       "\n",
       ".xr-section-item {\n",
       "  display: contents;\n",
       "}\n",
       "\n",
       ".xr-section-item input {\n",
       "  display: none;\n",
       "}\n",
       "\n",
       ".xr-section-item input + label {\n",
       "  color: var(--xr-disabled-color);\n",
       "}\n",
       "\n",
       ".xr-section-item input:enabled + label {\n",
       "  cursor: pointer;\n",
       "  color: var(--xr-font-color2);\n",
       "}\n",
       "\n",
       ".xr-section-item input:enabled + label:hover {\n",
       "  color: var(--xr-font-color0);\n",
       "}\n",
       "\n",
       ".xr-section-summary {\n",
       "  grid-column: 1;\n",
       "  color: var(--xr-font-color2);\n",
       "  font-weight: 500;\n",
       "}\n",
       "\n",
       ".xr-section-summary > span {\n",
       "  display: inline-block;\n",
       "  padding-left: 0.5em;\n",
       "}\n",
       "\n",
       ".xr-section-summary-in:disabled + label {\n",
       "  color: var(--xr-font-color2);\n",
       "}\n",
       "\n",
       ".xr-section-summary-in + label:before {\n",
       "  display: inline-block;\n",
       "  content: '►';\n",
       "  font-size: 11px;\n",
       "  width: 15px;\n",
       "  text-align: center;\n",
       "}\n",
       "\n",
       ".xr-section-summary-in:disabled + label:before {\n",
       "  color: var(--xr-disabled-color);\n",
       "}\n",
       "\n",
       ".xr-section-summary-in:checked + label:before {\n",
       "  content: '▼';\n",
       "}\n",
       "\n",
       ".xr-section-summary-in:checked + label > span {\n",
       "  display: none;\n",
       "}\n",
       "\n",
       ".xr-section-summary,\n",
       ".xr-section-inline-details {\n",
       "  padding-top: 4px;\n",
       "  padding-bottom: 4px;\n",
       "}\n",
       "\n",
       ".xr-section-inline-details {\n",
       "  grid-column: 2 / -1;\n",
       "}\n",
       "\n",
       ".xr-section-details {\n",
       "  display: none;\n",
       "  grid-column: 1 / -1;\n",
       "  margin-bottom: 5px;\n",
       "}\n",
       "\n",
       ".xr-section-summary-in:checked ~ .xr-section-details {\n",
       "  display: contents;\n",
       "}\n",
       "\n",
       ".xr-array-wrap {\n",
       "  grid-column: 1 / -1;\n",
       "  display: grid;\n",
       "  grid-template-columns: 20px auto;\n",
       "}\n",
       "\n",
       ".xr-array-wrap > label {\n",
       "  grid-column: 1;\n",
       "  vertical-align: top;\n",
       "}\n",
       "\n",
       ".xr-preview {\n",
       "  color: var(--xr-font-color3);\n",
       "}\n",
       "\n",
       ".xr-array-preview,\n",
       ".xr-array-data {\n",
       "  padding: 0 5px !important;\n",
       "  grid-column: 2;\n",
       "}\n",
       "\n",
       ".xr-array-data,\n",
       ".xr-array-in:checked ~ .xr-array-preview {\n",
       "  display: none;\n",
       "}\n",
       "\n",
       ".xr-array-in:checked ~ .xr-array-data,\n",
       ".xr-array-preview {\n",
       "  display: inline-block;\n",
       "}\n",
       "\n",
       ".xr-dim-list {\n",
       "  display: inline-block !important;\n",
       "  list-style: none;\n",
       "  padding: 0 !important;\n",
       "  margin: 0;\n",
       "}\n",
       "\n",
       ".xr-dim-list li {\n",
       "  display: inline-block;\n",
       "  padding: 0;\n",
       "  margin: 0;\n",
       "}\n",
       "\n",
       ".xr-dim-list:before {\n",
       "  content: '(';\n",
       "}\n",
       "\n",
       ".xr-dim-list:after {\n",
       "  content: ')';\n",
       "}\n",
       "\n",
       ".xr-dim-list li:not(:last-child):after {\n",
       "  content: ',';\n",
       "  padding-right: 5px;\n",
       "}\n",
       "\n",
       ".xr-has-index {\n",
       "  font-weight: bold;\n",
       "}\n",
       "\n",
       ".xr-var-list,\n",
       ".xr-var-item {\n",
       "  display: contents;\n",
       "}\n",
       "\n",
       ".xr-var-item > div,\n",
       ".xr-var-item label,\n",
       ".xr-var-item > .xr-var-name span {\n",
       "  background-color: var(--xr-background-color-row-even);\n",
       "  margin-bottom: 0;\n",
       "}\n",
       "\n",
       ".xr-var-item > .xr-var-name:hover span {\n",
       "  padding-right: 5px;\n",
       "}\n",
       "\n",
       ".xr-var-list > li:nth-child(odd) > div,\n",
       ".xr-var-list > li:nth-child(odd) > label,\n",
       ".xr-var-list > li:nth-child(odd) > .xr-var-name span {\n",
       "  background-color: var(--xr-background-color-row-odd);\n",
       "}\n",
       "\n",
       ".xr-var-name {\n",
       "  grid-column: 1;\n",
       "}\n",
       "\n",
       ".xr-var-dims {\n",
       "  grid-column: 2;\n",
       "}\n",
       "\n",
       ".xr-var-dtype {\n",
       "  grid-column: 3;\n",
       "  text-align: right;\n",
       "  color: var(--xr-font-color2);\n",
       "}\n",
       "\n",
       ".xr-var-preview {\n",
       "  grid-column: 4;\n",
       "}\n",
       "\n",
       ".xr-var-name,\n",
       ".xr-var-dims,\n",
       ".xr-var-dtype,\n",
       ".xr-preview,\n",
       ".xr-attrs dt {\n",
       "  white-space: nowrap;\n",
       "  overflow: hidden;\n",
       "  text-overflow: ellipsis;\n",
       "  padding-right: 10px;\n",
       "}\n",
       "\n",
       ".xr-var-name:hover,\n",
       ".xr-var-dims:hover,\n",
       ".xr-var-dtype:hover,\n",
       ".xr-attrs dt:hover {\n",
       "  overflow: visible;\n",
       "  width: auto;\n",
       "  z-index: 1;\n",
       "}\n",
       "\n",
       ".xr-var-attrs,\n",
       ".xr-var-data {\n",
       "  display: none;\n",
       "  background-color: var(--xr-background-color) !important;\n",
       "  padding-bottom: 5px !important;\n",
       "}\n",
       "\n",
       ".xr-var-attrs-in:checked ~ .xr-var-attrs,\n",
       ".xr-var-data-in:checked ~ .xr-var-data {\n",
       "  display: block;\n",
       "}\n",
       "\n",
       ".xr-var-data > table {\n",
       "  float: right;\n",
       "}\n",
       "\n",
       ".xr-var-name span,\n",
       ".xr-var-data,\n",
       ".xr-attrs {\n",
       "  padding-left: 25px !important;\n",
       "}\n",
       "\n",
       ".xr-attrs,\n",
       ".xr-var-attrs,\n",
       ".xr-var-data {\n",
       "  grid-column: 1 / -1;\n",
       "}\n",
       "\n",
       "dl.xr-attrs {\n",
       "  padding: 0;\n",
       "  margin: 0;\n",
       "  display: grid;\n",
       "  grid-template-columns: 125px auto;\n",
       "}\n",
       "\n",
       ".xr-attrs dt, dd {\n",
       "  padding: 0;\n",
       "  margin: 0;\n",
       "  float: left;\n",
       "  padding-right: 10px;\n",
       "  width: auto;\n",
       "}\n",
       "\n",
       ".xr-attrs dt {\n",
       "  font-weight: normal;\n",
       "  grid-column: 1;\n",
       "}\n",
       "\n",
       ".xr-attrs dt:hover span {\n",
       "  display: inline-block;\n",
       "  background: var(--xr-background-color);\n",
       "  padding-right: 10px;\n",
       "}\n",
       "\n",
       ".xr-attrs dd {\n",
       "  grid-column: 2;\n",
       "  white-space: pre-wrap;\n",
       "  word-break: break-all;\n",
       "}\n",
       "\n",
       ".xr-icon-database,\n",
       ".xr-icon-file-text2 {\n",
       "  display: inline-block;\n",
       "  vertical-align: middle;\n",
       "  width: 1em;\n",
       "  height: 1.5em !important;\n",
       "  stroke-width: 0;\n",
       "  stroke: currentColor;\n",
       "  fill: currentColor;\n",
       "}\n",
       "</style><div class='xr-wrap'><div class='xr-header'><div class='xr-obj-type'>xarray.Dataset</div></div><ul class='xr-sections'><li class='xr-section-item'><input id='section-56cd0051-fc80-4b7b-8248-44a46ddaf111' class='xr-section-summary-in' type='checkbox' disabled ><label for='section-56cd0051-fc80-4b7b-8248-44a46ddaf111' class='xr-section-summary'  title='Expand/collapse section'>Dimensions:</label><div class='xr-section-inline-details'><ul class='xr-dim-list'><li><span class='xr-has-index'>easting</span>: 168</li><li><span class='xr-has-index'>northing</span>: 107</li><li><span class='xr-has-index'>time</span>: 12</li></ul></div><div class='xr-section-details'></div></li><li class='xr-section-item'><input id='section-f7a3ad9b-15ad-4260-b857-cc41e766f7ec' class='xr-section-summary-in' type='checkbox'  checked><label for='section-f7a3ad9b-15ad-4260-b857-cc41e766f7ec' class='xr-section-summary' >Coordinates: <span>(3)</span></label><div class='xr-section-inline-details'></div><div class='xr-section-details'><ul class='xr-var-list'><li class='xr-var-item'><div class='xr-var-name'><span class='xr-has-index'>time</span></div><div class='xr-var-dims'>(time)</div><div class='xr-var-dtype'>datetime64[ns]</div><div class='xr-var-preview xr-preview'>1980-01-01T01:00:00 ... 1980-01-01T12:00:00</div><input id='attrs-d51dc9b9-a3b5-45a5-940f-e26136d1bf28' class='xr-var-attrs-in' type='checkbox' ><label for='attrs-d51dc9b9-a3b5-45a5-940f-e26136d1bf28' title='Show/Hide attributes'><svg class='icon xr-icon-file-text2'><use xlink:href='#icon-file-text2'></use></svg></label><input id='data-6525155f-d25c-4c10-8746-6fa1aab3e812' class='xr-var-data-in' type='checkbox'><label for='data-6525155f-d25c-4c10-8746-6fa1aab3e812' title='Show/Hide data repr'><svg class='icon xr-icon-database'><use xlink:href='#icon-database'></use></svg></label><div class='xr-var-attrs'><dl class='xr-attrs'><dt><span>standard_name :</span></dt><dd>time</dd><dt><span>axis :</span></dt><dd>T</dd></dl></div><pre class='xr-var-data'>array([&#x27;1980-01-01T01:00:00.000000000&#x27;, &#x27;1980-01-01T02:00:00.000000000&#x27;,\n",
       "       &#x27;1980-01-01T03:00:00.000000000&#x27;, &#x27;1980-01-01T04:00:00.000000000&#x27;,\n",
       "       &#x27;1980-01-01T05:00:00.000000000&#x27;, &#x27;1980-01-01T06:00:00.000000000&#x27;,\n",
       "       &#x27;1980-01-01T07:00:00.000000000&#x27;, &#x27;1980-01-01T08:00:00.000000000&#x27;,\n",
       "       &#x27;1980-01-01T09:00:00.000000000&#x27;, &#x27;1980-01-01T10:00:00.000000000&#x27;,\n",
       "       &#x27;1980-01-01T11:00:00.000000000&#x27;, &#x27;1980-01-01T12:00:00.000000000&#x27;],\n",
       "      dtype=&#x27;datetime64[ns]&#x27;)</pre></li><li class='xr-var-item'><div class='xr-var-name'><span class='xr-has-index'>northing</span></div><div class='xr-var-dims'>(northing)</div><div class='xr-var-dtype'>float32</div><div class='xr-var-preview xr-preview'>-108500.0 -107500.0 ... -2500.0</div><input id='attrs-c494e380-0fd1-4968-9e54-76787f89d753' class='xr-var-attrs-in' type='checkbox' ><label for='attrs-c494e380-0fd1-4968-9e54-76787f89d753' title='Show/Hide attributes'><svg class='icon xr-icon-file-text2'><use xlink:href='#icon-file-text2'></use></svg></label><input id='data-631a8506-e52a-440f-af05-7c9a72d9c44e' class='xr-var-data-in' type='checkbox'><label for='data-631a8506-e52a-440f-af05-7c9a72d9c44e' title='Show/Hide data repr'><svg class='icon xr-icon-database'><use xlink:href='#icon-database'></use></svg></label><div class='xr-var-attrs'><dl class='xr-attrs'><dt><span>standard_name :</span></dt><dd>projection_y_coordinate</dd><dt><span>units :</span></dt><dd>m</dd><dt><span>axis :</span></dt><dd>Y</dd></dl></div><pre class='xr-var-data'>array([-108500., -107500., -106500., -105500., -104500., -103500., -102500.,\n",
       "       -101500., -100500.,  -99500.,  -98500.,  -97500.,  -96500.,  -95500.,\n",
       "        -94500.,  -93500.,  -92500.,  -91500.,  -90500.,  -89500.,  -88500.,\n",
       "        -87500.,  -86500.,  -85500.,  -84500.,  -83500.,  -82500.,  -81500.,\n",
       "        -80500.,  -79500.,  -78500.,  -77500.,  -76500.,  -75500.,  -74500.,\n",
       "        -73500.,  -72500.,  -71500.,  -70500.,  -69500.,  -68500.,  -67500.,\n",
       "        -66500.,  -65500.,  -64500.,  -63500.,  -62500.,  -61500.,  -60500.,\n",
       "        -59500.,  -58500.,  -57500.,  -56500.,  -55500.,  -54500.,  -53500.,\n",
       "        -52500.,  -51500.,  -50500.,  -49500.,  -48500.,  -47500.,  -46500.,\n",
       "        -45500.,  -44500.,  -43500.,  -42500.,  -41500.,  -40500.,  -39500.,\n",
       "        -38500.,  -37500.,  -36500.,  -35500.,  -34500.,  -33500.,  -32500.,\n",
       "        -31500.,  -30500.,  -29500.,  -28500.,  -27500.,  -26500.,  -25500.,\n",
       "        -24500.,  -23500.,  -22500.,  -21500.,  -20500.,  -19500.,  -18500.,\n",
       "        -17500.,  -16500.,  -15500.,  -14500.,  -13500.,  -12500.,  -11500.,\n",
       "        -10500.,   -9500.,   -8500.,   -7500.,   -6500.,   -5500.,   -4500.,\n",
       "         -3500.,   -2500.], dtype=float32)</pre></li><li class='xr-var-item'><div class='xr-var-name'><span class='xr-has-index'>easting</span></div><div class='xr-var-dims'>(easting)</div><div class='xr-var-dtype'>float32</div><div class='xr-var-preview xr-preview'>-1542500.0 ... -1375500.0</div><input id='attrs-7851383b-adbf-4a17-ab6e-5902708a4300' class='xr-var-attrs-in' type='checkbox' ><label for='attrs-7851383b-adbf-4a17-ab6e-5902708a4300' title='Show/Hide attributes'><svg class='icon xr-icon-file-text2'><use xlink:href='#icon-file-text2'></use></svg></label><input id='data-0b35c950-a626-49fa-a40f-442ac73b9a18' class='xr-var-data-in' type='checkbox'><label for='data-0b35c950-a626-49fa-a40f-442ac73b9a18' title='Show/Hide data repr'><svg class='icon xr-icon-database'><use xlink:href='#icon-database'></use></svg></label><div class='xr-var-attrs'><dl class='xr-attrs'><dt><span>standard_name :</span></dt><dd>projection_x_coordinate</dd><dt><span>units :</span></dt><dd>m</dd><dt><span>axis :</span></dt><dd>X</dd></dl></div><pre class='xr-var-data'>array([-1542500., -1541500., -1540500., -1539500., -1538500., -1537500.,\n",
       "       -1536500., -1535500., -1534500., -1533500., -1532500., -1531500.,\n",
       "       -1530500., -1529500., -1528500., -1527500., -1526500., -1525500.,\n",
       "       -1524500., -1523500., -1522500., -1521500., -1520500., -1519500.,\n",
       "       -1518500., -1517500., -1516500., -1515500., -1514500., -1513500.,\n",
       "       -1512500., -1511500., -1510500., -1509500., -1508500., -1507500.,\n",
       "       -1506500., -1505500., -1504500., -1503500., -1502500., -1501500.,\n",
       "       -1500500., -1499500., -1498500., -1497500., -1496500., -1495500.,\n",
       "       -1494500., -1493500., -1492500., -1491500., -1490500., -1489500.,\n",
       "       -1488500., -1487500., -1486500., -1485500., -1484500., -1483500.,\n",
       "       -1482500., -1481500., -1480500., -1479500., -1478500., -1477500.,\n",
       "       -1476500., -1475500., -1474500., -1473500., -1472500., -1471500.,\n",
       "       -1470500., -1469500., -1468500., -1467500., -1466500., -1465500.,\n",
       "       -1464500., -1463500., -1462500., -1461500., -1460500., -1459500.,\n",
       "       -1458500., -1457500., -1456500., -1455500., -1454500., -1453500.,\n",
       "       -1452500., -1451500., -1450500., -1449500., -1448500., -1447500.,\n",
       "       -1446500., -1445500., -1444500., -1443500., -1442500., -1441500.,\n",
       "       -1440500., -1439500., -1438500., -1437500., -1436500., -1435500.,\n",
       "       -1434500., -1433500., -1432500., -1431500., -1430500., -1429500.,\n",
       "       -1428500., -1427500., -1426500., -1425500., -1424500., -1423500.,\n",
       "       -1422500., -1421500., -1420500., -1419500., -1418500., -1417500.,\n",
       "       -1416500., -1415500., -1414500., -1413500., -1412500., -1411500.,\n",
       "       -1410500., -1409500., -1408500., -1407500., -1406500., -1405500.,\n",
       "       -1404500., -1403500., -1402500., -1401500., -1400500., -1399500.,\n",
       "       -1398500., -1397500., -1396500., -1395500., -1394500., -1393500.,\n",
       "       -1392500., -1391500., -1390500., -1389500., -1388500., -1387500.,\n",
       "       -1386500., -1385500., -1384500., -1383500., -1382500., -1381500.,\n",
       "       -1380500., -1379500., -1378500., -1377500., -1376500., -1375500.],\n",
       "      dtype=float32)</pre></li></ul></div></li><li class='xr-section-item'><input id='section-1f883a17-aecb-491f-b917-5838334e6e0e' class='xr-section-summary-in' type='checkbox'  ><label for='section-1f883a17-aecb-491f-b917-5838334e6e0e' class='xr-section-summary' >Data variables: <span>(27)</span></label><div class='xr-section-inline-details'></div><div class='xr-section-details'><ul class='xr-var-list'><li class='xr-var-item'><div class='xr-var-name'><span>dw</span></div><div class='xr-var-dims'>(time, northing, easting)</div><div class='xr-var-dtype'>float32</div><div class='xr-var-preview xr-preview'>...</div><input id='attrs-732a179c-aa95-4475-be75-24e325107eb5' class='xr-var-attrs-in' type='checkbox' ><label for='attrs-732a179c-aa95-4475-be75-24e325107eb5' title='Show/Hide attributes'><svg class='icon xr-icon-file-text2'><use xlink:href='#icon-file-text2'></use></svg></label><input id='data-0c25ca11-37ce-4eb6-bd44-c85d2485b75e' class='xr-var-data-in' type='checkbox'><label for='data-0c25ca11-37ce-4eb6-bd44-c85d2485b75e' title='Show/Hide data repr'><svg class='icon xr-icon-database'><use xlink:href='#icon-database'></use></svg></label><div class='xr-var-attrs'><dl class='xr-attrs'><dt><span>standard_name :</span></dt><dd>wind_from_direction</dd><dt><span>units :</span></dt><dd>degree</dd></dl></div><pre class='xr-var-data'>[215712 values with dtype=float32]</pre></li><li class='xr-var-item'><div class='xr-var-name'><span>ERODEDMASS</span></div><div class='xr-var-dims'>(time, northing, easting)</div><div class='xr-var-dtype'>float32</div><div class='xr-var-preview xr-preview'>...</div><input id='attrs-15ae907c-23e6-4132-b57a-1fb6b7da4f08' class='xr-var-attrs-in' type='checkbox' disabled><label for='attrs-15ae907c-23e6-4132-b57a-1fb6b7da4f08' title='Show/Hide attributes'><svg class='icon xr-icon-file-text2'><use xlink:href='#icon-file-text2'></use></svg></label><input id='data-3667b5bb-372f-46c9-98e8-295a86d3c7a8' class='xr-var-data-in' type='checkbox'><label for='data-3667b5bb-372f-46c9-98e8-295a86d3c7a8' title='Show/Hide data repr'><svg class='icon xr-icon-database'><use xlink:href='#icon-database'></use></svg></label><div class='xr-var-attrs'><dl class='xr-attrs'></dl></div><pre class='xr-var-data'>[215712 values with dtype=float32]</pre></li><li class='xr-var-item'><div class='xr-var-name'><span>ET</span></div><div class='xr-var-dims'>(time, northing, easting)</div><div class='xr-var-dtype'>float32</div><div class='xr-var-preview xr-preview'>...</div><input id='attrs-936fedae-1b57-4ed7-97ce-9b2c3780b2a8' class='xr-var-attrs-in' type='checkbox' disabled><label for='attrs-936fedae-1b57-4ed7-97ce-9b2c3780b2a8' title='Show/Hide attributes'><svg class='icon xr-icon-file-text2'><use xlink:href='#icon-file-text2'></use></svg></label><input id='data-b9aa12b2-cb50-4c3a-9ee7-96fc2a09d529' class='xr-var-data-in' type='checkbox'><label for='data-b9aa12b2-cb50-4c3a-9ee7-96fc2a09d529' title='Show/Hide data repr'><svg class='icon xr-icon-database'><use xlink:href='#icon-database'></use></svg></label><div class='xr-var-attrs'><dl class='xr-attrs'></dl></div><pre class='xr-var-data'>[215712 values with dtype=float32]</pre></li><li class='xr-var-item'><div class='xr-var-name'><span>snd</span></div><div class='xr-var-dims'>(time, northing, easting)</div><div class='xr-var-dtype'>float32</div><div class='xr-var-preview xr-preview'>...</div><input id='attrs-06a83eec-ee8e-4849-b29d-d7a86ce241d6' class='xr-var-attrs-in' type='checkbox' ><label for='attrs-06a83eec-ee8e-4849-b29d-d7a86ce241d6' title='Show/Hide attributes'><svg class='icon xr-icon-file-text2'><use xlink:href='#icon-file-text2'></use></svg></label><input id='data-f54271e0-7251-4194-b2f4-4ff4e84b05f5' class='xr-var-data-in' type='checkbox'><label for='data-f54271e0-7251-4194-b2f4-4ff4e84b05f5' title='Show/Hide data repr'><svg class='icon xr-icon-database'><use xlink:href='#icon-database'></use></svg></label><div class='xr-var-attrs'><dl class='xr-attrs'><dt><span>standard_name :</span></dt><dd>surface_snow_thickness</dd><dt><span>units :</span></dt><dd>m</dd></dl></div><pre class='xr-var-data'>[215712 values with dtype=float32]</pre></li><li class='xr-var-item'><div class='xr-var-name'><span>rlds</span></div><div class='xr-var-dims'>(time, northing, easting)</div><div class='xr-var-dtype'>float32</div><div class='xr-var-preview xr-preview'>...</div><input id='attrs-518e6152-4a87-42ba-b2b0-bd63768f49be' class='xr-var-attrs-in' type='checkbox' ><label for='attrs-518e6152-4a87-42ba-b2b0-bd63768f49be' title='Show/Hide attributes'><svg class='icon xr-icon-file-text2'><use xlink:href='#icon-file-text2'></use></svg></label><input id='data-4d5b89c9-bbc4-48c7-beca-23abddfedc6b' class='xr-var-data-in' type='checkbox'><label for='data-4d5b89c9-bbc4-48c7-beca-23abddfedc6b' title='Show/Hide data repr'><svg class='icon xr-icon-database'><use xlink:href='#icon-database'></use></svg></label><div class='xr-var-attrs'><dl class='xr-attrs'><dt><span>standard_name :</span></dt><dd>surface_downwelling_longwave_flux_in_air</dd><dt><span>units :</span></dt><dd>W/m2</dd></dl></div><pre class='xr-var-data'>[215712 values with dtype=float32]</pre></li><li class='xr-var-item'><div class='xr-var-name'><span>rsds</span></div><div class='xr-var-dims'>(time, northing, easting)</div><div class='xr-var-dtype'>float32</div><div class='xr-var-preview xr-preview'>...</div><input id='attrs-b1e92739-a018-4b83-83c1-00795469b348' class='xr-var-attrs-in' type='checkbox' ><label for='attrs-b1e92739-a018-4b83-83c1-00795469b348' title='Show/Hide attributes'><svg class='icon xr-icon-file-text2'><use xlink:href='#icon-file-text2'></use></svg></label><input id='data-a467b919-d465-4a43-ac98-60ebd93df167' class='xr-var-data-in' type='checkbox'><label for='data-a467b919-d465-4a43-ac98-60ebd93df167' title='Show/Hide data repr'><svg class='icon xr-icon-database'><use xlink:href='#icon-database'></use></svg></label><div class='xr-var-attrs'><dl class='xr-attrs'><dt><span>standard_name :</span></dt><dd>surface_downwelling_shortwave_flux_in_air</dd><dt><span>units :</span></dt><dd>W/m2</dd></dl></div><pre class='xr-var-data'>[215712 values with dtype=float32]</pre></li><li class='xr-var-item'><div class='xr-var-name'><span>MS_HNW</span></div><div class='xr-var-dims'>(time, northing, easting)</div><div class='xr-var-dtype'>float32</div><div class='xr-var-preview xr-preview'>...</div><input id='attrs-bfba21b4-fe05-4322-9d58-f44e06c0b64d' class='xr-var-attrs-in' type='checkbox' disabled><label for='attrs-bfba21b4-fe05-4322-9d58-f44e06c0b64d' title='Show/Hide attributes'><svg class='icon xr-icon-file-text2'><use xlink:href='#icon-file-text2'></use></svg></label><input id='data-e004a256-be1a-48c3-9854-a9372c8ff8fb' class='xr-var-data-in' type='checkbox'><label for='data-e004a256-be1a-48c3-9854-a9372c8ff8fb' title='Show/Hide data repr'><svg class='icon xr-icon-database'><use xlink:href='#icon-database'></use></svg></label><div class='xr-var-attrs'><dl class='xr-attrs'></dl></div><pre class='xr-var-data'>[215712 values with dtype=float32]</pre></li><li class='xr-var-item'><div class='xr-var-name'><span>MS_SNOWPACK_RUNOFF</span></div><div class='xr-var-dims'>(time, northing, easting)</div><div class='xr-var-dtype'>float32</div><div class='xr-var-preview xr-preview'>...</div><input id='attrs-b3fa8cf7-d203-498c-8bd0-435a95e01216' class='xr-var-attrs-in' type='checkbox' ><label for='attrs-b3fa8cf7-d203-498c-8bd0-435a95e01216' title='Show/Hide attributes'><svg class='icon xr-icon-file-text2'><use xlink:href='#icon-file-text2'></use></svg></label><input id='data-e82842d8-183f-4329-bb50-403960063371' class='xr-var-data-in' type='checkbox'><label for='data-e82842d8-183f-4329-bb50-403960063371' title='Show/Hide data repr'><svg class='icon xr-icon-database'><use xlink:href='#icon-database'></use></svg></label><div class='xr-var-attrs'><dl class='xr-attrs'><dt><span>standard_name :</span></dt><dd>Snowpack_runoff</dd><dt><span>long_name :</span></dt><dd>Runoff at bottom of snowpack (positive = downward flux)</dd><dt><span>units :</span></dt><dd>kg/m2</dd></dl></div><pre class='xr-var-data'>[215712 values with dtype=float32]</pre></li><li class='xr-var-item'><div class='xr-var-name'><span>MS_WIND</span></div><div class='xr-var-dims'>(time, northing, easting)</div><div class='xr-var-dtype'>float32</div><div class='xr-var-preview xr-preview'>...</div><input id='attrs-10054b69-d560-4165-9548-8f9e59c46f28' class='xr-var-attrs-in' type='checkbox' disabled><label for='attrs-10054b69-d560-4165-9548-8f9e59c46f28' title='Show/Hide attributes'><svg class='icon xr-icon-file-text2'><use xlink:href='#icon-file-text2'></use></svg></label><input id='data-55250866-dabe-4223-84a7-87f30f3ae5d3' class='xr-var-data-in' type='checkbox'><label for='data-55250866-dabe-4223-84a7-87f30f3ae5d3' title='Show/Hide data repr'><svg class='icon xr-icon-database'><use xlink:href='#icon-database'></use></svg></label><div class='xr-var-attrs'><dl class='xr-attrs'></dl></div><pre class='xr-var-data'>[215712 values with dtype=float32]</pre></li><li class='xr-var-item'><div class='xr-var-name'><span>pr</span></div><div class='xr-var-dims'>(time, northing, easting)</div><div class='xr-var-dtype'>float32</div><div class='xr-var-preview xr-preview'>...</div><input id='attrs-45d07155-cecc-4f9c-bb6b-b66e04395776' class='xr-var-attrs-in' type='checkbox' ><label for='attrs-45d07155-cecc-4f9c-bb6b-b66e04395776' title='Show/Hide attributes'><svg class='icon xr-icon-file-text2'><use xlink:href='#icon-file-text2'></use></svg></label><input id='data-7724b738-fde6-4d3f-a0c3-4718fa93fc2d' class='xr-var-data-in' type='checkbox'><label for='data-7724b738-fde6-4d3f-a0c3-4718fa93fc2d' title='Show/Hide data repr'><svg class='icon xr-icon-database'><use xlink:href='#icon-database'></use></svg></label><div class='xr-var-attrs'><dl class='xr-attrs'><dt><span>standard_name :</span></dt><dd>precipitation_flux</dd><dt><span>units :</span></dt><dd>kg/m2/s</dd></dl></div><pre class='xr-var-data'>[215712 values with dtype=float32]</pre></li><li class='xr-var-item'><div class='xr-var-name'><span>hur</span></div><div class='xr-var-dims'>(time, northing, easting)</div><div class='xr-var-dtype'>float32</div><div class='xr-var-preview xr-preview'>...</div><input id='attrs-7dde7beb-70fa-4d33-86fe-69e72e271b06' class='xr-var-attrs-in' type='checkbox' ><label for='attrs-7dde7beb-70fa-4d33-86fe-69e72e271b06' title='Show/Hide attributes'><svg class='icon xr-icon-file-text2'><use xlink:href='#icon-file-text2'></use></svg></label><input id='data-b15d04f5-8ed3-4953-a7cb-53db1eeeea20' class='xr-var-data-in' type='checkbox'><label for='data-b15d04f5-8ed3-4953-a7cb-53db1eeeea20' title='Show/Hide data repr'><svg class='icon xr-icon-database'><use xlink:href='#icon-database'></use></svg></label><div class='xr-var-attrs'><dl class='xr-attrs'><dt><span>standard_name :</span></dt><dd>relative_humidity</dd><dt><span>units :</span></dt><dd>1</dd></dl></div><pre class='xr-var-data'>[215712 values with dtype=float32]</pre></li><li class='xr-var-item'><div class='xr-var-name'><span>RHO1</span></div><div class='xr-var-dims'>(time, northing, easting)</div><div class='xr-var-dtype'>float32</div><div class='xr-var-preview xr-preview'>...</div><input id='attrs-0c7afc8b-16dc-4ce5-8c03-73e7acd11914' class='xr-var-attrs-in' type='checkbox' disabled><label for='attrs-0c7afc8b-16dc-4ce5-8c03-73e7acd11914' title='Show/Hide attributes'><svg class='icon xr-icon-file-text2'><use xlink:href='#icon-file-text2'></use></svg></label><input id='data-7f85b1ef-b934-4dfc-a02d-9276500fb51d' class='xr-var-data-in' type='checkbox'><label for='data-7f85b1ef-b934-4dfc-a02d-9276500fb51d' title='Show/Hide data repr'><svg class='icon xr-icon-database'><use xlink:href='#icon-database'></use></svg></label><div class='xr-var-attrs'><dl class='xr-attrs'></dl></div><pre class='xr-var-data'>[215712 values with dtype=float32]</pre></li><li class='xr-var-item'><div class='xr-var-name'><span>RHO2</span></div><div class='xr-var-dims'>(time, northing, easting)</div><div class='xr-var-dtype'>float32</div><div class='xr-var-preview xr-preview'>...</div><input id='attrs-3edcc86c-9928-4ec3-95f6-5d065ecf24fd' class='xr-var-attrs-in' type='checkbox' disabled><label for='attrs-3edcc86c-9928-4ec3-95f6-5d065ecf24fd' title='Show/Hide attributes'><svg class='icon xr-icon-file-text2'><use xlink:href='#icon-file-text2'></use></svg></label><input id='data-a6107b5c-69e5-4284-abf9-233acc7d107c' class='xr-var-data-in' type='checkbox'><label for='data-a6107b5c-69e5-4284-abf9-233acc7d107c' title='Show/Hide data repr'><svg class='icon xr-icon-database'><use xlink:href='#icon-database'></use></svg></label><div class='xr-var-attrs'><dl class='xr-attrs'></dl></div><pre class='xr-var-data'>[215712 values with dtype=float32]</pre></li><li class='xr-var-item'><div class='xr-var-name'><span>RHO3</span></div><div class='xr-var-dims'>(time, northing, easting)</div><div class='xr-var-dtype'>float32</div><div class='xr-var-preview xr-preview'>...</div><input id='attrs-b6aa9888-070a-4198-a18d-b07f67b1cd0e' class='xr-var-attrs-in' type='checkbox' disabled><label for='attrs-b6aa9888-070a-4198-a18d-b07f67b1cd0e' title='Show/Hide attributes'><svg class='icon xr-icon-file-text2'><use xlink:href='#icon-file-text2'></use></svg></label><input id='data-0e7b5177-6f07-4427-96e1-79ff6e59e34b' class='xr-var-data-in' type='checkbox'><label for='data-0e7b5177-6f07-4427-96e1-79ff6e59e34b' title='Show/Hide data repr'><svg class='icon xr-icon-database'><use xlink:href='#icon-database'></use></svg></label><div class='xr-var-attrs'><dl class='xr-attrs'></dl></div><pre class='xr-var-data'>[215712 values with dtype=float32]</pre></li><li class='xr-var-item'><div class='xr-var-name'><span>RHO4</span></div><div class='xr-var-dims'>(time, northing, easting)</div><div class='xr-var-dtype'>float32</div><div class='xr-var-preview xr-preview'>...</div><input id='attrs-8daaf73a-fdea-48c7-bf6f-bcc2d8a5b1fc' class='xr-var-attrs-in' type='checkbox' disabled><label for='attrs-8daaf73a-fdea-48c7-bf6f-bcc2d8a5b1fc' title='Show/Hide attributes'><svg class='icon xr-icon-file-text2'><use xlink:href='#icon-file-text2'></use></svg></label><input id='data-be8685f5-8daa-4351-a7dd-81d800f1682f' class='xr-var-data-in' type='checkbox'><label for='data-be8685f5-8daa-4351-a7dd-81d800f1682f' title='Show/Hide data repr'><svg class='icon xr-icon-database'><use xlink:href='#icon-database'></use></svg></label><div class='xr-var-attrs'><dl class='xr-attrs'></dl></div><pre class='xr-var-data'>[215712 values with dtype=float32]</pre></li><li class='xr-var-item'><div class='xr-var-name'><span>RHO5</span></div><div class='xr-var-dims'>(time, northing, easting)</div><div class='xr-var-dtype'>float32</div><div class='xr-var-preview xr-preview'>...</div><input id='attrs-6e84e27d-a518-4770-8d13-332a1efa0645' class='xr-var-attrs-in' type='checkbox' disabled><label for='attrs-6e84e27d-a518-4770-8d13-332a1efa0645' title='Show/Hide attributes'><svg class='icon xr-icon-file-text2'><use xlink:href='#icon-file-text2'></use></svg></label><input id='data-46bb72f5-b63a-47f2-b5e2-031fc8a68bd4' class='xr-var-data-in' type='checkbox'><label for='data-46bb72f5-b63a-47f2-b5e2-031fc8a68bd4' title='Show/Hide data repr'><svg class='icon xr-icon-database'><use xlink:href='#icon-database'></use></svg></label><div class='xr-var-attrs'><dl class='xr-attrs'></dl></div><pre class='xr-var-data'>[215712 values with dtype=float32]</pre></li><li class='xr-var-item'><div class='xr-var-name'><span>snow_density</span></div><div class='xr-var-dims'>(time, northing, easting)</div><div class='xr-var-dtype'>float32</div><div class='xr-var-preview xr-preview'>...</div><input id='attrs-a57c37ef-d877-4ff6-a31e-19dd4a147726' class='xr-var-attrs-in' type='checkbox' ><label for='attrs-a57c37ef-d877-4ff6-a31e-19dd4a147726' title='Show/Hide attributes'><svg class='icon xr-icon-file-text2'><use xlink:href='#icon-file-text2'></use></svg></label><input id='data-78aeac58-edc9-4c03-9270-f01345e6893a' class='xr-var-data-in' type='checkbox'><label for='data-78aeac58-edc9-4c03-9270-f01345e6893a' title='Show/Hide data repr'><svg class='icon xr-icon-database'><use xlink:href='#icon-database'></use></svg></label><div class='xr-var-attrs'><dl class='xr-attrs'><dt><span>standard_name :</span></dt><dd>snow_density</dd><dt><span>units :</span></dt><dd>kg/m3</dd></dl></div><pre class='xr-var-data'>[215712 values with dtype=float32]</pre></li><li class='xr-var-item'><div class='xr-var-name'><span>SFC_SUBL</span></div><div class='xr-var-dims'>(time, northing, easting)</div><div class='xr-var-dtype'>float32</div><div class='xr-var-preview xr-preview'>...</div><input id='attrs-1f022abf-9c99-492b-8da1-431c7fa5a72f' class='xr-var-attrs-in' type='checkbox' ><label for='attrs-1f022abf-9c99-492b-8da1-431c7fa5a72f' title='Show/Hide attributes'><svg class='icon xr-icon-file-text2'><use xlink:href='#icon-file-text2'></use></svg></label><input id='data-0400b1b0-d356-4fe6-b8e2-7b637df43e25' class='xr-var-data-in' type='checkbox'><label for='data-0400b1b0-d356-4fe6-b8e2-7b637df43e25' title='Show/Hide data repr'><svg class='icon xr-icon-database'><use xlink:href='#icon-database'></use></svg></label><div class='xr-var-attrs'><dl class='xr-attrs'><dt><span>standard_name :</span></dt><dd>Surface_evaporation_sublimation</dd><dt><span>long_name :</span></dt><dd>Evaporation and sublimated mass from surface (positive = downward flux)</dd><dt><span>units :</span></dt><dd>kg/m2</dd></dl></div><pre class='xr-var-data'>[215712 values with dtype=float32]</pre></li><li class='xr-var-item'><div class='xr-var-name'><span>SURF_ALB</span></div><div class='xr-var-dims'>(time, northing, easting)</div><div class='xr-var-dtype'>float32</div><div class='xr-var-preview xr-preview'>...</div><input id='attrs-f327da20-5b1e-494c-9db6-bab8aa084f09' class='xr-var-attrs-in' type='checkbox' disabled><label for='attrs-f327da20-5b1e-494c-9db6-bab8aa084f09' title='Show/Hide attributes'><svg class='icon xr-icon-file-text2'><use xlink:href='#icon-file-text2'></use></svg></label><input id='data-eeb8768d-168f-4465-9198-f84832b1c52a' class='xr-var-data-in' type='checkbox'><label for='data-eeb8768d-168f-4465-9198-f84832b1c52a' title='Show/Hide data repr'><svg class='icon xr-icon-database'><use xlink:href='#icon-database'></use></svg></label><div class='xr-var-attrs'><dl class='xr-attrs'></dl></div><pre class='xr-var-data'>[215712 values with dtype=float32]</pre></li><li class='xr-var-item'><div class='xr-var-name'><span>swe</span></div><div class='xr-var-dims'>(time, northing, easting)</div><div class='xr-var-dtype'>float32</div><div class='xr-var-preview xr-preview'>...</div><input id='attrs-74d31f46-5068-440f-8844-e29b94c3230a' class='xr-var-attrs-in' type='checkbox' ><label for='attrs-74d31f46-5068-440f-8844-e29b94c3230a' title='Show/Hide attributes'><svg class='icon xr-icon-file-text2'><use xlink:href='#icon-file-text2'></use></svg></label><input id='data-5419e76e-6cb6-41fc-80f7-9e1f2655f5a2' class='xr-var-data-in' type='checkbox'><label for='data-5419e76e-6cb6-41fc-80f7-9e1f2655f5a2' title='Show/Hide data repr'><svg class='icon xr-icon-database'><use xlink:href='#icon-database'></use></svg></label><div class='xr-var-attrs'><dl class='xr-attrs'><dt><span>standard_name :</span></dt><dd>lwe_thickness_of_surface_snow_amount</dd><dt><span>units :</span></dt><dd>m</dd></dl></div><pre class='xr-var-data'>[215712 values with dtype=float32]</pre></li><li class='xr-var-item'><div class='xr-var-name'><span>ta</span></div><div class='xr-var-dims'>(time, northing, easting)</div><div class='xr-var-dtype'>float32</div><div class='xr-var-preview xr-preview'>...</div><input id='attrs-bcedb1b3-53cc-496b-b4a9-62e254e1004a' class='xr-var-attrs-in' type='checkbox' ><label for='attrs-bcedb1b3-53cc-496b-b4a9-62e254e1004a' title='Show/Hide attributes'><svg class='icon xr-icon-file-text2'><use xlink:href='#icon-file-text2'></use></svg></label><input id='data-634454da-4d40-4f67-b660-47e02afb8262' class='xr-var-data-in' type='checkbox'><label for='data-634454da-4d40-4f67-b660-47e02afb8262' title='Show/Hide data repr'><svg class='icon xr-icon-database'><use xlink:href='#icon-database'></use></svg></label><div class='xr-var-attrs'><dl class='xr-attrs'><dt><span>standard_name :</span></dt><dd>air_temperature</dd><dt><span>long_name :</span></dt><dd>near surface air temperature</dd><dt><span>units :</span></dt><dd>K</dd></dl></div><pre class='xr-var-data'>[215712 values with dtype=float32]</pre></li><li class='xr-var-item'><div class='xr-var-name'><span>TOP_ALB</span></div><div class='xr-var-dims'>(time, northing, easting)</div><div class='xr-var-dtype'>float32</div><div class='xr-var-preview xr-preview'>...</div><input id='attrs-84d108ac-8cd1-4f37-8492-70a49d32a87e' class='xr-var-attrs-in' type='checkbox' disabled><label for='attrs-84d108ac-8cd1-4f37-8492-70a49d32a87e' title='Show/Hide attributes'><svg class='icon xr-icon-file-text2'><use xlink:href='#icon-file-text2'></use></svg></label><input id='data-a3306a86-15ad-4306-85bb-120933f06ec9' class='xr-var-data-in' type='checkbox'><label for='data-a3306a86-15ad-4306-85bb-120933f06ec9' title='Show/Hide data repr'><svg class='icon xr-icon-database'><use xlink:href='#icon-database'></use></svg></label><div class='xr-var-attrs'><dl class='xr-attrs'></dl></div><pre class='xr-var-data'>[215712 values with dtype=float32]</pre></li><li class='xr-var-item'><div class='xr-var-name'><span>TSG</span></div><div class='xr-var-dims'>(time, northing, easting)</div><div class='xr-var-dtype'>float32</div><div class='xr-var-preview xr-preview'>...</div><input id='attrs-84c28595-d287-4ab4-9b9d-c93c1d21a393' class='xr-var-attrs-in' type='checkbox' disabled><label for='attrs-84c28595-d287-4ab4-9b9d-c93c1d21a393' title='Show/Hide attributes'><svg class='icon xr-icon-file-text2'><use xlink:href='#icon-file-text2'></use></svg></label><input id='data-0b9c796a-fb45-41bb-ba71-272f7f35db09' class='xr-var-data-in' type='checkbox'><label for='data-0b9c796a-fb45-41bb-ba71-272f7f35db09' title='Show/Hide data repr'><svg class='icon xr-icon-database'><use xlink:href='#icon-database'></use></svg></label><div class='xr-var-attrs'><dl class='xr-attrs'></dl></div><pre class='xr-var-data'>[215712 values with dtype=float32]</pre></li><li class='xr-var-item'><div class='xr-var-name'><span>ts</span></div><div class='xr-var-dims'>(time, northing, easting)</div><div class='xr-var-dtype'>float32</div><div class='xr-var-preview xr-preview'>...</div><input id='attrs-cd5d4cb5-9a87-4ede-8777-c85f693bf581' class='xr-var-attrs-in' type='checkbox' ><label for='attrs-cd5d4cb5-9a87-4ede-8777-c85f693bf581' title='Show/Hide attributes'><svg class='icon xr-icon-file-text2'><use xlink:href='#icon-file-text2'></use></svg></label><input id='data-89f6af07-41f9-48ec-95ef-933ae40868c0' class='xr-var-data-in' type='checkbox'><label for='data-89f6af07-41f9-48ec-95ef-933ae40868c0' title='Show/Hide data repr'><svg class='icon xr-icon-database'><use xlink:href='#icon-database'></use></svg></label><div class='xr-var-attrs'><dl class='xr-attrs'><dt><span>standard_name :</span></dt><dd>surface_temperature</dd><dt><span>units :</span></dt><dd>K</dd></dl></div><pre class='xr-var-data'>[215712 values with dtype=float32]</pre></li><li class='xr-var-item'><div class='xr-var-name'><span>ws</span></div><div class='xr-var-dims'>(time, northing, easting)</div><div class='xr-var-dtype'>float32</div><div class='xr-var-preview xr-preview'>...</div><input id='attrs-ae14293b-5c03-4883-9c21-3e6c19cf03a0' class='xr-var-attrs-in' type='checkbox' ><label for='attrs-ae14293b-5c03-4883-9c21-3e6c19cf03a0' title='Show/Hide attributes'><svg class='icon xr-icon-file-text2'><use xlink:href='#icon-file-text2'></use></svg></label><input id='data-3eda998d-4d73-4034-a171-2fc8f9094b5f' class='xr-var-data-in' type='checkbox'><label for='data-3eda998d-4d73-4034-a171-2fc8f9094b5f' title='Show/Hide data repr'><svg class='icon xr-icon-database'><use xlink:href='#icon-database'></use></svg></label><div class='xr-var-attrs'><dl class='xr-attrs'><dt><span>standard_name :</span></dt><dd>wind_speed</dd><dt><span>units :</span></dt><dd>m/s</dd></dl></div><pre class='xr-var-data'>[215712 values with dtype=float32]</pre></li><li class='xr-var-item'><div class='xr-var-name'><span>VW_DRIFT</span></div><div class='xr-var-dims'>(time, northing, easting)</div><div class='xr-var-dtype'>float32</div><div class='xr-var-preview xr-preview'>...</div><input id='attrs-c81fb390-156c-4777-8d47-177a0313b06b' class='xr-var-attrs-in' type='checkbox' disabled><label for='attrs-c81fb390-156c-4777-8d47-177a0313b06b' title='Show/Hide attributes'><svg class='icon xr-icon-file-text2'><use xlink:href='#icon-file-text2'></use></svg></label><input id='data-798bd37c-ac65-4b4d-a9a7-a038f2ddd968' class='xr-var-data-in' type='checkbox'><label for='data-798bd37c-ac65-4b4d-a9a7-a038f2ddd968' title='Show/Hide data repr'><svg class='icon xr-icon-database'><use xlink:href='#icon-database'></use></svg></label><div class='xr-var-attrs'><dl class='xr-attrs'></dl></div><pre class='xr-var-data'>[215712 values with dtype=float32]</pre></li><li class='xr-var-item'><div class='xr-var-name'><span>WINDEROSIONDEPOSITION</span></div><div class='xr-var-dims'>(time, northing, easting)</div><div class='xr-var-dtype'>float32</div><div class='xr-var-preview xr-preview'>...</div><input id='attrs-6045a69e-0a4b-481a-bd71-58869f92cc43' class='xr-var-attrs-in' type='checkbox' disabled><label for='attrs-6045a69e-0a4b-481a-bd71-58869f92cc43' title='Show/Hide attributes'><svg class='icon xr-icon-file-text2'><use xlink:href='#icon-file-text2'></use></svg></label><input id='data-18d90172-bdba-4242-9472-c7b62881ea9f' class='xr-var-data-in' type='checkbox'><label for='data-18d90172-bdba-4242-9472-c7b62881ea9f' title='Show/Hide data repr'><svg class='icon xr-icon-database'><use xlink:href='#icon-database'></use></svg></label><div class='xr-var-attrs'><dl class='xr-attrs'></dl></div><pre class='xr-var-data'>[215712 values with dtype=float32]</pre></li></ul></div></li><li class='xr-section-item'><input id='section-ab75c4ef-877e-4280-bcca-e58a188d124f' class='xr-section-summary-in' type='checkbox'  ><label for='section-ab75c4ef-877e-4280-bcca-e58a188d124f' class='xr-section-summary' >Attributes: <span>(14)</span></label><div class='xr-section-inline-details'></div><div class='xr-section-details'><dl class='xr-attrs'><dt><span>date_created :</span></dt><dd>2021-08-25</dd><dt><span>creator_name :</span></dt><dd>erke2265</dd><dt><span>source :</span></dt><dd>MeteoIO-3.00</dd><dt><span>history :</span></dt><dd>2021-08-25T18:38:00Z, erke2265@shas0123.rc.int.colorado.edu, MeteoIO-3.00</dd><dt><span>keywords_vocabulary :</span></dt><dd>AGU Index Terms</dd><dt><span>keywords :</span></dt><dd>Cryosphere, Mass Balance, Energy Balance, Atmosphere, Land/atmosphere interactions, Climatology</dd><dt><span>title :</span></dt><dd>Gridded data for various parameters and timesteps</dd><dt><span>institution :</span></dt><dd>colorado.edu</dd><dt><span>product_version :</span></dt><dd>1.0</dd><dt><span>Conventions :</span></dt><dd>CF-1.6,ACDD-1.3</dd><dt><span>standard_name_vocabulary :</span></dt><dd>CF-1.6</dd><dt><span>cdm_data_type :</span></dt><dd>Grid</dd><dt><span>geospatial_bounds_crs :</span></dt><dd>EPSG:3031</dd><dt><span>geospatial_bounds :</span></dt><dd>Polygon ((-1557500.0000000000 -123500.0000000000, -1359500.0000000000 -123500.0000000000, -1359500.0000000000 13500.0000000000, -1557500.0000000000 13500.0000000000))</dd></dl></div></li></ul></div></div>"
      ],
      "text/plain": [
       "<xarray.Dataset>\n",
       "Dimensions:                (easting: 168, northing: 107, time: 12)\n",
       "Coordinates:\n",
       "  * time                   (time) datetime64[ns] 1980-01-01T01:00:00 ... 1980-01-01T12:00:00\n",
       "  * northing               (northing) float32 -108500.0 -107500.0 ... -2500.0\n",
       "  * easting                (easting) float32 -1542500.0 ... -1375500.0\n",
       "Data variables:\n",
       "    dw                     (time, northing, easting) float32 ...\n",
       "    ERODEDMASS             (time, northing, easting) float32 ...\n",
       "    ET                     (time, northing, easting) float32 ...\n",
       "    snd                    (time, northing, easting) float32 ...\n",
       "    rlds                   (time, northing, easting) float32 ...\n",
       "    rsds                   (time, northing, easting) float32 ...\n",
       "    MS_HNW                 (time, northing, easting) float32 ...\n",
       "    MS_SNOWPACK_RUNOFF     (time, northing, easting) float32 ...\n",
       "    MS_WIND                (time, northing, easting) float32 ...\n",
       "    pr                     (time, northing, easting) float32 ...\n",
       "    hur                    (time, northing, easting) float32 ...\n",
       "    RHO1                   (time, northing, easting) float32 ...\n",
       "    RHO2                   (time, northing, easting) float32 ...\n",
       "    RHO3                   (time, northing, easting) float32 ...\n",
       "    RHO4                   (time, northing, easting) float32 ...\n",
       "    RHO5                   (time, northing, easting) float32 ...\n",
       "    snow_density           (time, northing, easting) float32 ...\n",
       "    SFC_SUBL               (time, northing, easting) float32 ...\n",
       "    SURF_ALB               (time, northing, easting) float32 ...\n",
       "    swe                    (time, northing, easting) float32 ...\n",
       "    ta                     (time, northing, easting) float32 ...\n",
       "    TOP_ALB                (time, northing, easting) float32 ...\n",
       "    TSG                    (time, northing, easting) float32 ...\n",
       "    ts                     (time, northing, easting) float32 ...\n",
       "    ws                     (time, northing, easting) float32 ...\n",
       "    VW_DRIFT               (time, northing, easting) float32 ...\n",
       "    WINDEROSIONDEPOSITION  (time, northing, easting) float32 ...\n",
       "Attributes:\n",
       "    date_created:              2021-08-25\n",
       "    creator_name:              erke2265\n",
       "    source:                    MeteoIO-3.00\n",
       "    history:                   2021-08-25T18:38:00Z, erke2265@shas0123.rc.int...\n",
       "    keywords_vocabulary:       AGU Index Terms\n",
       "    keywords:                  Cryosphere, Mass Balance, Energy Balance, Atmo...\n",
       "    title:                     Gridded data for various parameters and timesteps\n",
       "    institution:               colorado.edu\n",
       "    product_version:           1.0\n",
       "    Conventions:               CF-1.6,ACDD-1.3\n",
       "    standard_name_vocabulary:  CF-1.6\n",
       "    cdm_data_type:             Grid\n",
       "    geospatial_bounds_crs:     EPSG:3031\n",
       "    geospatial_bounds:         Polygon ((-1557500.0000000000 -123500.00000000..."
      ]
     },
     "execution_count": 51,
     "metadata": {},
     "output_type": "execute_result"
    }
   ],
   "source": [
    "# Trim grids\n",
    "n_trim = 15 # 15\n",
    "ds = ds.isel(easting=slice(n_trim, -n_trim))\n",
    "ds = ds.isel(northing=slice(n_trim, -n_trim))\n",
    "ds"
   ]
  },
  {
   "cell_type": "code",
   "execution_count": 52,
   "metadata": {},
   "outputs": [],
   "source": [
    "# n_finished = len(ds['time'])\n",
    "# n_total = 366*24\n",
    "# percent_done = 100 * (n_finished / n_total)\n",
    "# elapsed_time = 22.5 # hours\n",
    "# estimated_total_time = elapsed_time / (percent_done *0.01)\n",
    "# remaining_time = estimated_total_time - elapsed_time\n",
    "\n",
    "# print(\"Finished time steps = \" + str(n_finished))\n",
    "# print(\"Total time steps = \" + str(n_total))\n",
    "# print(\"Percent done = \" + str(percent_done))\n",
    "# print()\n",
    "\n",
    "# print(\"Elapsed time = \" + str(elapsed_time) + \" hours\")\n",
    "# print(\"Estimated remaining time = \" + str(remaining_time) + \" hours\")\n",
    "# print(\"Estimated total time = \" + str(estimated_total_time) + \" hours\")"
   ]
  },
  {
   "cell_type": "markdown",
   "metadata": {},
   "source": [
    "# SWE at end of model time period"
   ]
  },
  {
   "cell_type": "code",
   "execution_count": 53,
   "metadata": {},
   "outputs": [
    {
     "data": {
      "text/plain": [
       "<matplotlib.collections.QuadMesh at 0x2b5eaa231438>"
      ]
     },
     "execution_count": 53,
     "metadata": {},
     "output_type": "execute_result"
    },
    {
     "data": {
      "image/png": "[encoded data removed]",
      "text/plain": [
       "<Figure size 432x288 with 2 Axes>"
      ]
     },
     "metadata": {
      "needs_background": "light"
     },
     "output_type": "display_data"
    }
   ],
   "source": [
    "ds['swe'][-1,:,:].plot()"
   ]
  },
  {
   "cell_type": "markdown",
   "metadata": {},
   "source": [
    "# Delta SWE timeseries"
   ]
  },
  {
   "cell_type": "code",
   "execution_count": 54,
   "metadata": {},
   "outputs": [],
   "source": [
    "# Function to calculate dswe time series\n",
    "def swe_ts(ds):\n",
    "    ts = ds['swe'] - ds['swe'].isel(time=0)\n",
    "    ts = ts.mean(dim='easting').mean(dim='northing') * 1000\n",
    "    return ts"
   ]
  },
  {
   "cell_type": "markdown",
   "metadata": {},
   "source": [
    "# Delta SWE map"
   ]
  },
  {
   "cell_type": "code",
   "execution_count": 55,
   "metadata": {},
   "outputs": [],
   "source": [
    "# Function to calculate timesum of variable\n",
    "def swe_map(ds):\n",
    "    dswe_map = ds['swe'].isel(time=-1) - ds['swe'].isel(time=0)\n",
    "    dswe_map = dswe_map * 1000\n",
    "    return dswe_map"
   ]
  },
  {
   "cell_type": "markdown",
   "metadata": {},
   "source": [
    "# Mass Balance Functions"
   ]
  },
  {
   "cell_type": "code",
   "execution_count": 56,
   "metadata": {},
   "outputs": [],
   "source": [
    "# Function to retrieve time series\n",
    "def return_ts(ds, var):\n",
    "    ts = ds[var][dict(time=slice(1,len(ds['time'])))]\n",
    "    return ts\n",
    "\n",
    "# Function to retrieve cumulative sum\n",
    "def return_time_sum(ds, var):\n",
    "    ts = return_ts(ds, var)\n",
    "    time_sum = ts.cumsum(dim='time')\n",
    "    return time_sum\n",
    "\n",
    "# Function to calculte domain average fields\n",
    "def return_domain_avg(ds, var):\n",
    "    ts = return_time_sum(ds, var)\n",
    "    ts = ts.mean(dim='easting').mean(dim='northing')\n",
    "    return ts\n",
    "\n",
    "# Function to calculate mass balance 1 time series\n",
    "def return_mb1_ts(ds):\n",
    "    mb = return_domain_avg(ds, 'MS_HNW') - return_domain_avg(ds, 'MS_WIND') - return_domain_avg(ds, 'ET') + return_domain_avg(ds, 'MS_SNOWPACK_RUNOFF')\n",
    "    return mb\n",
    "\n",
    "# Function to calculate mass balance 1 map\n",
    "def return_mb1_map(ds):\n",
    "    mb = return_time_sum(ds, 'MS_HNW') - return_time_sum(ds, 'MS_WIND') - return_time_sum(ds, 'ET') + return_time_sum(ds, 'MS_SNOWPACK_RUNOFF')\n",
    "    return mb\n",
    "\n",
    "# Function to calculate mass balance 2 time series\n",
    "def return_mb2_ts(ds):\n",
    "    mb = return_domain_avg(ds, 'pr') - return_domain_avg(ds, 'ET') + return_domain_avg(ds, 'WINDEROSIONDEPOSITION') - return_domain_avg(ds, 'MS_SNOWPACK_RUNOFF')\n",
    "    # MS_WIND represents the mass suspended in the air. If you want to remove that mass from the mass balance calculations, uncoment the line below. \n",
    "#     mb = mb - ds['MS_WIND'][dict(time=slice(1, len(ds['time'])))].mean(dim='northing').mean(dim='easting')\n",
    "    return mb\n",
    "\n",
    "# Function to calculate mass balance 2 map\n",
    "def return_mb2_map(ds):\n",
    "    mb = return_time_sum(ds, 'pr') - return_time_sum(ds, 'ET') + return_time_sum(ds, 'WINDEROSIONDEPOSITION') - return_time_sum(ds, 'MS_SNOWPACK_RUNOFF')\n",
    "    # MS_WIND represents the mass suspended in the air. If you want to remove that mass from the mass balance calculations, uncoment the line below. \n",
    "#     mb = mb - ds['MS_WIND'][dict(time=slice(1, len(ds['time'])))]\n",
    "    return mb"
   ]
  },
  {
   "cell_type": "markdown",
   "metadata": {},
   "source": [
    "# Delta SWE Plots"
   ]
  },
  {
   "cell_type": "code",
   "execution_count": 57,
   "metadata": {},
   "outputs": [
    {
     "name": "stdout",
     "output_type": "stream",
     "text": [
      "Max SMB = 0.5569458\n",
      "Mean SMB = 0.22705767\n",
      "Min SMB = -0.22888184\n",
      "Max/Min ratio = -2.4333334\n"
     ]
    },
    {
     "data": {
      "image/png": "[encoded data removed]",
      "text/plain": [
       "<Figure size 1080x360 with 1 Axes>"
      ]
     },
     "metadata": {
      "needs_background": "light"
     },
     "output_type": "display_data"
    },
    {
     "data": {
      "image/png": "[encoded data removed]",
      "text/plain": [
       "<Figure size 1080x504 with 2 Axes>"
      ]
     },
     "metadata": {
      "needs_background": "light"
     },
     "output_type": "display_data"
    }
   ],
   "source": [
    "# Calculate time series\n",
    "dswe_ts = swe_ts(ds)\n",
    "# mb1_ts = return_mb1_ts(ds)\n",
    "# mb2_ts = return_mb2_ts(ds)\n",
    "\n",
    "# Calculate Maps\n",
    "dswe_map = swe_map(ds)\n",
    "# mb1_map = return_mb1_map(ds)\n",
    "# mb2_map = return_mb2_map(ds)\n",
    "\n",
    "# Plot time series\n",
    "plt.figure(figsize=(15, 5))\n",
    "plt.plot(dswe_ts['time'], dswe_ts, label='dswe')\n",
    "# plt.plot(mb1_ts['time'], mb1_ts, label='mb1')\n",
    "# plt.plot(mb2_ts['time'], mb2_ts, label='mb2')\n",
    "plt.grid()\n",
    "plt.legend()\n",
    "\n",
    "# # Plot MS_WIND timeseries\n",
    "# plt.figure(figsize=(15, 5))\n",
    "# plt.plot(ds['time'], ds['MS_WIND'].mean(dim='easting').mean(dim='northing'))\n",
    "# plt.grid()\n",
    "# plt.legend()\n",
    "\n",
    "# Plots maps\n",
    "plt.figure(figsize=(15, 7))\n",
    "dswe_map.plot()\n",
    "plt.savefig(\"smb.pdf\", dpi=100)\n",
    "\n",
    "# plt.figure(figsize=(15, 7))\n",
    "# mb1_map.isel(time=-1).plot()\n",
    "\n",
    "# plt.figure(figsize=(15, 7))\n",
    "# mb2_map.isel(time=-1).plot()\n",
    "\n",
    "# Print max, mean, min SMB\n",
    "print(\"Max SMB = \" + str(dswe_map.max().values))\n",
    "print(\"Mean SMB = \" + str(dswe_map.mean().values))\n",
    "# print(\"Mean SMB = \" + str(mb1_map.isel(time=-1).mean().values))\n",
    "# print(\"Mean SMB = \" + str(mb2_map.isel(time=-1).mean().values))\n",
    "print(\"Min SMB = \" + str(dswe_map.min().values))\n",
    "print(\"Max/Min ratio = \" + str(dswe_map.max().values / dswe_map.min().values))\n",
    "\n",
    "# # Transect\n",
    "# plt.figure(figsize=(10, 5))\n",
    "# dswe_map[29,:].plot()"
   ]
  },
  {
   "cell_type": "markdown",
   "metadata": {},
   "source": [
    "# Drifting snow maps"
   ]
  },
  {
   "cell_type": "code",
   "execution_count": 58,
   "metadata": {},
   "outputs": [],
   "source": [
    "# wind_sum = ds['WINDEROSIONDEPOSITION'].sum(dim='time')\n",
    "# plt.figure(figsize=(15, 7))\n",
    "# wind_sum.plot()\n",
    "# print(wind_sum.mean())\n",
    "# print(np.abs(wind_sum).mean())\n",
    "# plt.savefig(\"net_wind_transport.pdf\", dpi=100)\n",
    "\n",
    "# # Transect\n",
    "# plt.figure(figsize=(10, 5))\n",
    "# wind_sum[0,:].plot()"
   ]
  },
  {
   "cell_type": "code",
   "execution_count": 59,
   "metadata": {},
   "outputs": [],
   "source": [
    "# pr_sum = ds['pr'].sum(dim='time')\n",
    "# plt.figure(figsize=(15, 7))\n",
    "# pr_sum.plot()\n",
    "# plt.savefig(\"precip.pdf\", dpi=100)\n",
    "# print(pr_sum.mean())"
   ]
  },
  {
   "cell_type": "code",
   "execution_count": 60,
   "metadata": {},
   "outputs": [],
   "source": [
    "# plt.figure(figsize=(15, 7))\n",
    "# # wind_pr = np.abs(wind_sum) / pr_sum\n",
    "# wind_pr = 100 * (wind_sum / pr_sum)\n",
    "# wind_pr.plot()\n",
    "# print(wind_pr.mean())\n",
    "# plt.figure(figsize=(15, 7))\n",
    "# plt.hist(wind_pr.values.flatten())\n",
    "# plt.figure(figsize=(15, 7))\n",
    "# plt.plot(wind_pr[25,:])"
   ]
  },
  {
   "cell_type": "code",
   "execution_count": 61,
   "metadata": {},
   "outputs": [],
   "source": [
    "# subl_sum = ds['SFC_SUBL'].sum(dim='time')\n",
    "# plt.figure(figsize=(15, 7))\n",
    "# subl_sum.plot()\n",
    "# plt.savefig(\"sublimation.pdf\", dpi=100)\n",
    "# print(subl_sum.mean())"
   ]
  },
  {
   "cell_type": "code",
   "execution_count": 62,
   "metadata": {},
   "outputs": [],
   "source": [
    "# # wn = xr.open_dataset(\"/scratch/summit/erke2265/antarctic-windninja/nc_files/wn_processed.nc\")\n",
    "# # wn_mean = wn['Wind Speed'].resample(time=\"1D\").mean().mean(dim='easting').mean(dim='northing')\n",
    "# ws_mean = ds['ws'].mean(dim='time')\n",
    "# plt.figure(figsize=(15, 7))\n",
    "# ws_mean.plot()\n",
    "# # wn_mean.plot()\n",
    "# # plt.savefig(\"wind_speed.pdf\", dpi=100)\n",
    "# # print(ws_mean.mean())"
   ]
  },
  {
   "cell_type": "markdown",
   "metadata": {},
   "source": [
    "# Drifting snow frequency"
   ]
  },
  {
   "cell_type": "code",
   "execution_count": 63,
   "metadata": {},
   "outputs": [],
   "source": [
    "# erosion = ds['ERODEDMASS'] > 0\n",
    "# erosion_frequency = 100 * erosion.sum(dim='time') / len(ds['time'])\n",
    "# plt.figure(figsize=(20, 10))\n",
    "# erosion_frequency.plot()"
   ]
  },
  {
   "cell_type": "code",
   "execution_count": 64,
   "metadata": {},
   "outputs": [],
   "source": [
    "# ds['ws'].mean(dim='time').plot()"
   ]
  },
  {
   "cell_type": "code",
   "execution_count": 65,
   "metadata": {},
   "outputs": [],
   "source": [
    "# ds['ws'].mean(dim='easting').mean(dim='northing').plot()"
   ]
  },
  {
   "cell_type": "code",
   "execution_count": 68,
   "metadata": {},
   "outputs": [
    {
     "data": {
      "text/plain": [
       "<matplotlib.collections.QuadMesh at 0x2b5eab561e48>"
      ]
     },
     "execution_count": 68,
     "metadata": {},
     "output_type": "execute_result"
    },
    {
     "data": {
      "image/png": "[encoded data removed]",
      "text/plain": [
       "<Figure size 432x288 with 2 Axes>"
      ]
     },
     "metadata": {
      "needs_background": "light"
     },
     "output_type": "display_data"
    }
   ],
   "source": [
    "ds['RHO5'][-1,:,:].plot()"
   ]
  },
  {
   "cell_type": "markdown",
   "metadata": {},
   "source": [
    "# Close dataset so it can be opened again without restarting the kernel"
   ]
  },
  {
   "cell_type": "code",
   "execution_count": 67,
   "metadata": {},
   "outputs": [],
   "source": [
    "ds.close()"
   ]
  }
 ],
 "metadata": {
  "kernelspec": {
   "display_name": "alpine3d",
   "language": "python",
   "name": "alpine3d"
  },
  "language_info": {
   "codemirror_mode": {
    "name": "ipython",
    "version": 3
   },
   "file_extension": ".py",
   "mimetype": "text/x-python",
   "name": "python",
   "nbconvert_exporter": "python",
   "pygments_lexer": "ipython3",
   "version": "3.6.10"
  }
 },
 "nbformat": 4,
 "nbformat_minor": 4
}
