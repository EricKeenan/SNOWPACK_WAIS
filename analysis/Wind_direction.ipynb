{
 "cells": [
  {
   "cell_type": "markdown",
   "metadata": {},
   "source": [
    "# Investigate Wind Direction"
   ]
  },
  {
   "cell_type": "code",
   "execution_count": 1,
   "metadata": {},
   "outputs": [],
   "source": [
    "import xarray as xr\n",
    "import matplotlib.pyplot as plt\n",
    "import math\n",
    "import numpy as np\n",
    "import cartopy.crs as ccrs\n",
    "import geopandas as gpd\n",
    "import glob\n",
    "import moviepy.editor as mpy\n",
    "from palettable.colorbrewer.diverging import RdBu_11"
   ]
  },
  {
   "cell_type": "markdown",
   "metadata": {},
   "source": [
    "# Load Alpine-3D netCDF file"
   ]
  },
  {
   "cell_type": "code",
   "execution_count": 2,
   "metadata": {},
   "outputs": [],
   "source": [
    "# Alpine-3D grids\n",
    "# ds = xr.open_dataset(\"../output/grids/a3d_grids.nc\")\n",
    "ds = xr.open_dataset(\"../../RL.nc\")\n",
    "\n",
    "# SNOWPACK topography \n",
    "dem = np.flipud(np.loadtxt(\"../input/modified_surface_grids/dem.asc\", skiprows=6))\n",
    "dem = xr.DataArray(dem, coords=[ds['northing'], ds['easting']], dims=['northing', 'easting'])\n",
    "\n",
    "# Trim grids\n",
    "ds = ds.isel(easting=slice(5, -5))\n",
    "ds = ds.isel(northing=slice(5, -5))\n",
    "dem = dem.isel(easting=slice(5, -5))\n",
    "dem = dem.isel(northing=slice(5, -5))"
   ]
  },
  {
   "cell_type": "markdown",
   "metadata": {},
   "source": [
    "# Plot wind speed and direction from Alpine-3D"
   ]
  },
  {
   "cell_type": "code",
   "execution_count": 3,
   "metadata": {},
   "outputs": [
    {
     "name": "stdout",
     "output_type": "stream",
     "text": [
      "275\n",
      "276\n",
      "277\n",
      "278\n",
      "279\n",
      "280\n",
      "281\n",
      "282\n",
      "283\n",
      "284\n",
      "285\n",
      "286\n",
      "287\n",
      "288\n",
      "289\n",
      "290\n",
      "291\n",
      "292\n",
      "293\n",
      "294\n",
      "295\n",
      "296\n",
      "297\n",
      "298\n",
      "299\n",
      "300\n",
      "301\n",
      "302\n",
      "303\n",
      "304\n",
      "305\n",
      "306\n",
      "307\n",
      "308\n",
      "309\n",
      "310\n",
      "311\n",
      "312\n",
      "313\n",
      "314\n",
      "315\n",
      "316\n",
      "317\n",
      "318\n",
      "319\n",
      "320\n",
      "321\n",
      "322\n",
      "323\n",
      "324\n",
      "325\n",
      "326\n",
      "327\n",
      "328\n",
      "329\n",
      "330\n",
      "331\n",
      "332\n",
      "333\n",
      "334\n",
      "335\n",
      "336\n",
      "337\n",
      "338\n",
      "339\n",
      "340\n",
      "341\n",
      "342\n",
      "343\n",
      "344\n",
      "345\n",
      "346\n",
      "347\n",
      "348\n",
      "349\n",
      "350\n",
      "351\n",
      "352\n",
      "353\n",
      "354\n",
      "355\n",
      "356\n",
      "357\n",
      "358\n",
      "359\n",
      "360\n",
      "361\n",
      "362\n",
      "363\n",
      "364\n",
      "365\n"
     ]
    },
    {
     "name": "stderr",
     "output_type": "stream",
     "text": [
      "t:   1%|          | 2/366 [00:00<00:21, 16.61it/s, now=None]"
     ]
    },
    {
     "name": "stdout",
     "output_type": "stream",
     "text": [
      "Moviepy - Building video movie.mp4.\n",
      "Moviepy - Writing video movie.mp4\n",
      "\n"
     ]
    },
    {
     "name": "stderr",
     "output_type": "stream",
     "text": [
      "t:   0%|          | 0/366 [00:00<?, ?it/s, now=None]          "
     ]
    },
    {
     "name": "stdout",
     "output_type": "stream",
     "text": [
      "Moviepy - Done !\n",
      "Moviepy - video ready movie.mp4\n",
      "MoviePy - Building file movie.gif with imageio.\n"
     ]
    },
    {
     "name": "stderr",
     "output_type": "stream",
     "text": [
      "                                                              \r"
     ]
    },
    {
     "data": {
      "text/plain": [
       "<Figure size 432x288 with 0 Axes>"
      ]
     },
     "metadata": {},
     "output_type": "display_data"
    }
   ],
   "source": [
    "'''\n",
    "Calculates U and V components of wind from wind speed and direction. \n",
    "Wind direction is the meteorological wind direction (i.e. direction the wind is coming from in degrees)\n",
    "'''\n",
    "def calc_U_V(speed, direction):\n",
    "    U = -speed * np.sin(math.pi / 180 * direction)\n",
    "    V = -speed * np.cos(math.pi / 180 * direction)\n",
    "    return U, V\n",
    "\n",
    "# Get U and V components\n",
    "ds['ws'] = ds['ws'].resample(time='24H').mean(dim='time')\n",
    "U, V = calc_U_V(ds['ws'], ds['dw'])\n",
    "U = U.resample(time='24H').mean(dim='time')\n",
    "V = V.resample(time='24H').mean(dim='time')\n",
    "VW_max = np.sqrt(U**2 + V**2).max()\n",
    "VW_min = 0\n",
    "\n",
    "# Calculate\n",
    "# # dswe = 1000 * (ds['swe'] - ds['swe'].isel(time=0))\n",
    "dswe = ds['WINDEROSIONDEPOSITION'].cumsum(dim='time').resample(time='24H').mean(dim='time')\n",
    "\n",
    "# Get lat/lon\n",
    "x_snowpack = ds['easting']\n",
    "y_snowpack = ds['northing']\n",
    "\n",
    "\n",
    "# # Make movie\n",
    "# # Clear old images, gifs,and movies\n",
    "# !mkdir -p movie_frame\n",
    "# !rm -f movie.gif\n",
    "# !rm -f movie.mp4\n",
    "# !rm -f movie_frame/*\n",
    "\n",
    "# for time_step in range(0, len(U['time']), 1):\n",
    "for time_step in range(275, len(U['time']), 1):\n",
    "    print(time_step)\n",
    "    plt.clf()\n",
    "    \n",
    "    # Plot map of mean wind\n",
    "    plt.figure(figsize=(30,15))\n",
    "\n",
    "    # DEM\n",
    "    contour_levels = np.linspace(dem.min(), dem.max(), 25)\n",
    "    contour = plt.contour(x_snowpack.values, y_snowpack.values, dem, contour_levels, linestyles='solid', colors='white')\n",
    "    plt.clabel(contour, fmt = '%.0f', inline = True)\n",
    "\n",
    "    # Delta SWE\n",
    "    colormap = RdBu_11.mpl_colormap # works\n",
    "    plt.pcolor(x_snowpack.values, y_snowpack.values, dswe.isel(time=time_step), \\\n",
    "               cmap = colormap, vmin=-np.abs(dswe).max(), vmax=np.abs(dswe).max())\n",
    "    plt.colorbar()\n",
    "\n",
    "    # Wind speed and direction (still need to normalize arrows so that length means the same thing for all time steps)\n",
    "    #spacing = 6\n",
    "    spacing = 2\n",
    "    northing_ind = np.arange(0, len(ds['northing']), spacing)\n",
    "    easting_ind = np.arange(0, len(ds['easting']), spacing)\n",
    "    plt.quiver(x_snowpack[easting_ind].values, y_snowpack[northing_ind].values, \\\n",
    "               U.isel(time=time_step)[northing_ind, easting_ind], V.isel(time=time_step)[northing_ind, easting_ind], scale=250)\n",
    "    plt.title(U['time'].isel(time=time_step).values, fontsize=20)\n",
    "    \n",
    "    #Save Figure with image number zero padding \n",
    "    if time_step < 10: # 1 digit\n",
    "        plt.savefig(\"movie_frame/frame_000\" + str(time_step) + \".png\", dpi=100)\n",
    "    elif time_step < 100 and time_step > 9: # 2 digits\n",
    "        plt.savefig(\"movie_frame/frame_00\" + str(time_step) + \".png\", dpi=100)\n",
    "    elif time_step < 1000 and time_step > 99: # 3 digits\n",
    "        plt.savefig(\"movie_frame/frame_0\" + str(time_step) + \".png\", dpi=100)\n",
    "    else: # 4 digits\n",
    "        plt.savefig(\"movie_frame/frame_\" + str(time_step) + \".png\", dpi=100)\n",
    "    plt.close()\n",
    "    \n",
    "# Make a .mp4 movie and gif\n",
    "file_list = sorted(glob.glob('movie_frame/*.png'))\n",
    "clip = mpy.ImageSequenceClip(file_list, fps=30)\n",
    "clip.write_videofile('movie.mp4')\n",
    "clip.write_gif('movie.gif')\n"
   ]
  }
 ],
 "metadata": {
  "kernelspec": {
   "display_name": "alpine3d",
   "language": "python",
   "name": "alpine3d"
  },
  "language_info": {
   "codemirror_mode": {
    "name": "ipython",
    "version": 3
   },
   "file_extension": ".py",
   "mimetype": "text/x-python",
   "name": "python",
   "nbconvert_exporter": "python",
   "pygments_lexer": "ipython3",
   "version": "3.6.10"
  }
 },
 "nbformat": 4,
 "nbformat_minor": 4
}
